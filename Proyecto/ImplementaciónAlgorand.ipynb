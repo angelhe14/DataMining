{
 "cells": [
  {
   "cell_type": "markdown",
   "id": "706269f5",
   "metadata": {},
   "source": [
    "## **Implementación en Algorand**"
   ]
  },
  {
   "cell_type": "markdown",
   "id": "3d59f1c0",
   "metadata": {},
   "source": [
    "### **Importar las bibliotecas y los datos**"
   ]
  },
  {
   "cell_type": "markdown",
   "id": "35bb53c4",
   "metadata": {},
   "source": [
    "Para comenzar se instalan los requerimientos"
   ]
  },
  {
   "cell_type": "code",
   "execution_count": 27,
   "id": "15e15ef8",
   "metadata": {},
   "outputs": [
    {
     "name": "stdout",
     "output_type": "stream",
     "text": [
      "Requirement already satisfied: python-dotenv in c:\\users\\angel\\anaconda3\\lib\\site-packages (0.21.0)\n",
      "Requirement already satisfied: py-algorand-sdk in c:\\users\\angel\\anaconda3\\lib\\site-packages (2.0.0)\n",
      "Requirement already satisfied: msgpack<2,>=1.0.0 in c:\\users\\angel\\anaconda3\\lib\\site-packages (from py-algorand-sdk) (1.0.2)\n",
      "Requirement already satisfied: pycryptodomex<4,>=3.6.0 in c:\\users\\angel\\anaconda3\\lib\\site-packages (from py-algorand-sdk) (3.16.0)\n",
      "Requirement already satisfied: pynacl<2,>=1.4.0 in c:\\users\\angel\\anaconda3\\lib\\site-packages (from py-algorand-sdk) (1.4.0)\n",
      "Requirement already satisfied: six in c:\\users\\angel\\anaconda3\\lib\\site-packages (from pynacl<2,>=1.4.0->py-algorand-sdk) (1.16.0)\n",
      "Requirement already satisfied: cffi>=1.4.1 in c:\\users\\angel\\anaconda3\\lib\\site-packages (from pynacl<2,>=1.4.0->py-algorand-sdk) (1.15.0)\n",
      "Requirement already satisfied: pycparser in c:\\users\\angel\\anaconda3\\lib\\site-packages (from cffi>=1.4.1->pynacl<2,>=1.4.0->py-algorand-sdk) (2.21)\n"
     ]
    }
   ],
   "source": [
    "!pip install python-dotenv\n",
    "!pip install py-algorand-sdk"
   ]
  },
  {
   "cell_type": "markdown",
   "id": "3339f881",
   "metadata": {},
   "source": [
    "Ahora se importan todas las librerias a utilizar"
   ]
  },
  {
   "cell_type": "code",
   "execution_count": 28,
   "id": "195d0dfb",
   "metadata": {},
   "outputs": [],
   "source": [
    "import os\n",
    "import json\n",
    "import glob\n",
    "import pandas as pd                                  # Para la manipulación y análisis de datos\n",
    "import numpy as np                                   # Para crear vectores y matrices n dimensionales\n",
    "import matplotlib.pyplot as plt                      # Para la generación de gráficas a partir de los datos\n",
    "import seaborn as sns                                # Para la visualización de datos basado en matplotlib\n",
    "%matplotlib inline   \n",
    "import plotly.express as px\n",
    "import warnings\n",
    "from dotenv import load_dotenv                      # Para manejar tus variables de entorno\n",
    "from algosdk.v2client.indexer import IndexerClient  # Para acceder al indexer\n",
    "from sklearn.model_selection import TimeSeriesSplit\n",
    "from sklearn.ensemble import RandomForestRegressor\n",
    "from sklearn.model_selection import train_test_split, GridSearchCV\n",
    "from sklearn.neural_network import MLPRegressor\n",
    "import sklearn.metrics as metrics\n",
    "pd.set_option('display.max_columns', 35)\n",
    "pd.set_option('display.max_colwidth', None)\n",
    "warnings.filterwarnings(\"ignore\")"
   ]
  },
  {
   "cell_type": "markdown",
   "id": "7e2b5832",
   "metadata": {},
   "source": [
    "#### **Acceso al indexador**"
   ]
  },
  {
   "cell_type": "markdown",
   "id": "0e6f8601",
   "metadata": {},
   "source": [
    "Para comenzar inicializamos el Algorand Indexer Client y obtendremos el estado del indexador."
   ]
  },
  {
   "cell_type": "code",
   "execution_count": 3,
   "id": "abb12004",
   "metadata": {},
   "outputs": [
    {
     "name": "stdout",
     "output_type": "stream",
     "text": [
      "{'data': {'migration-required': False, 'read-only-mode': True}, 'db-available': True, 'is-migrating': False, 'message': '26151855', 'round': 26151855, 'version': '2.15.1'}\n"
     ]
    }
   ],
   "source": [
    "load_dotenv()\n",
    "os.environ['API_KEY'] = 'bH0q8p14jl4XShzytvwUL9o5vZENgynR2PfiT5Hp'\n",
    "\n",
    "SECRET_KEY = os.getenv(\"API_KEY\")\n",
    "\n",
    "algod_header = {\n",
    "    'User-Agent': 'Minimal-PyTeal-SDK-Demo/0.1',\n",
    "    'X-API-Key': SECRET_KEY\n",
    "}\n",
    "\n",
    "indexer_address = \"https://mainnet-algorand.api.purestake.io/idx2\"\n",
    "\n",
    "algod_indexer = IndexerClient(\n",
    "    SECRET_KEY,\n",
    "    indexer_address,\n",
    "    algod_header\n",
    ")\n",
    "\n",
    "print(algod_indexer.health())"
   ]
  },
  {
   "cell_type": "markdown",
   "id": "dfb46d6f",
   "metadata": {},
   "source": [
    "#### **Consulta de transacciones**"
   ]
  },
  {
   "cell_type": "markdown",
   "id": "a2bf7578",
   "metadata": {},
   "source": [
    "Ahora se consultarán los datos de la stablecoin USDC, que podemos utilizar para predecir el volumen del mercado que mejora significativamente el margen de maniobra para la liquidación en la cadena. La función get_data para consultar el indexador en función del marco de tiempo dado, en particular, la ronda de inicio y cierre. Además, los datos se escriben en un archivo json y se almacenan en la carpeta datos."
   ]
  },
  {
   "cell_type": "code",
   "execution_count": 9,
   "id": "883de6ae",
   "metadata": {},
   "outputs": [],
   "source": [
    "def get_data(asset_id, min_round, end_round):\n",
    "\n",
    "    reference_point = min_round\n",
    "    stride = 10000\n",
    "    while True:\n",
    "        \n",
    "        if end_round <= reference_point:\n",
    "            break\n",
    "        data = algod_indexer.search_transactions(min_round=reference_point, max_round=reference_point+stride, asset_id=asset_id, min_amount=1, limit=10000)\n",
    "\n",
    "        len_slice = len(data['transactions']) \n",
    "\n",
    "        if end_round > reference_point:\n",
    "\n",
    "            file=json.dumps(data['transactions'])\n",
    "\n",
    "            with open(f'data/json_data_{asset_id}_{reference_point}-{stride}.json', 'w') as outfile:\n",
    "                outfile.write(file)\n",
    "\n",
    "        reference_point+=10000\n",
    "\n",
    "min_round = 11611000\n",
    "max_round = 16711000\n",
    "usdc = 31566704\n",
    "get_data(usdc, min_round, max_round)"
   ]
  },
  {
   "cell_type": "markdown",
   "id": "cb360ef6",
   "metadata": {},
   "source": [
    "Una vez obtenidos los datos se transforman los datos para realizar una descripción de los datos"
   ]
  },
  {
   "cell_type": "code",
   "execution_count": 29,
   "id": "e3600bee",
   "metadata": {},
   "outputs": [
    {
     "data": {
      "text/html": [
       "<div>\n",
       "<style scoped>\n",
       "    .dataframe tbody tr th:only-of-type {\n",
       "        vertical-align: middle;\n",
       "    }\n",
       "\n",
       "    .dataframe tbody tr th {\n",
       "        vertical-align: top;\n",
       "    }\n",
       "\n",
       "    .dataframe thead th {\n",
       "        text-align: right;\n",
       "    }\n",
       "</style>\n",
       "<table border=\"1\" class=\"dataframe\">\n",
       "  <thead>\n",
       "    <tr style=\"text-align: right;\">\n",
       "      <th></th>\n",
       "      <th>close-rewards</th>\n",
       "      <th>closing-amount</th>\n",
       "      <th>confirmed-round</th>\n",
       "      <th>fee</th>\n",
       "      <th>first-valid</th>\n",
       "      <th>genesis-hash</th>\n",
       "      <th>id</th>\n",
       "      <th>intra-round-offset</th>\n",
       "      <th>last-valid</th>\n",
       "      <th>lease</th>\n",
       "      <th>receiver-rewards</th>\n",
       "      <th>round-time</th>\n",
       "      <th>sender</th>\n",
       "      <th>sender-rewards</th>\n",
       "      <th>tx-type</th>\n",
       "      <th>asset-transfer-transaction.amount</th>\n",
       "      <th>asset-transfer-transaction.asset-id</th>\n",
       "      <th>asset-transfer-transaction.close-amount</th>\n",
       "      <th>asset-transfer-transaction.receiver</th>\n",
       "      <th>signature.logicsig.args</th>\n",
       "      <th>signature.logicsig.logic</th>\n",
       "      <th>signature.logicsig.multisig-signature.subsignature</th>\n",
       "      <th>signature.logicsig.multisig-signature.threshold</th>\n",
       "      <th>signature.logicsig.multisig-signature.version</th>\n",
       "      <th>signature.sig</th>\n",
       "      <th>group</th>\n",
       "      <th>genesis-id</th>\n",
       "      <th>note</th>\n",
       "      <th>asset-transfer-transaction.close-to</th>\n",
       "      <th>signature.multisig.subsignature</th>\n",
       "      <th>signature.multisig.threshold</th>\n",
       "      <th>signature.multisig.version</th>\n",
       "    </tr>\n",
       "  </thead>\n",
       "  <tbody>\n",
       "    <tr>\n",
       "      <th>0</th>\n",
       "      <td>0</td>\n",
       "      <td>0</td>\n",
       "      <td>11611122</td>\n",
       "      <td>1000</td>\n",
       "      <td>11611119</td>\n",
       "      <td>wGHE2Pwdvd7S12BL5FaOP20EGYesN73ktiC1qzkkit8=</td>\n",
       "      <td>QAIGEWDW3GY4MAMV5K3IZR4BLFVMAXCRCYYNMOYCYRZ22FGSJILQ</td>\n",
       "      <td>41</td>\n",
       "      <td>11612119</td>\n",
       "      <td>apZ2NEmRFs/6d73LYzh5BfqyF7XSSy4Pi6e2QLN7iHc=</td>\n",
       "      <td>0</td>\n",
       "      <td>1611336718</td>\n",
       "      <td>2UEQTE5QDNXPI7M3TU44G6SYKLFWLPQO7EBZM7K7MHMQQMFI4QJPLHQFHM</td>\n",
       "      <td>10084</td>\n",
       "      <td>axfer</td>\n",
       "      <td>7162930000</td>\n",
       "      <td>31566704</td>\n",
       "      <td>0</td>\n",
       "      <td>ZG54ZBZ5LVWV3MTGOPDSKCBL5LEQTAPUTN5OQQZUMTAYV3JIICA7G3RJZE</td>\n",
       "      <td>[6zAMlShmCsFTk8tED45rsfC/s4xiTZ/RwBmUtnu+ztyb44w5CJo7wCoW96ovo2VGy3yd5WLICVc6KNX611nwAA==]</td>\n",
       "      <td>ASADwMyNCATw1oYPJgIgybvMhz1dbV2yZnPHJQgr6skJgfSbeuhDNGTBiu0oQIEgdKWxEDtStQNW3B5ww6xpYlGP2UWAn3r9TsiMXxnoWAExBCIMMRAjEhAxESQSEDEUKBIQMRctKQQQ</td>\n",
       "      <td>[{'public-key': 'v8w/YDBK3MmuXQg3njxy1K9cgEZIN2UQWDF3W5vp4MY=', 'signature': 'GE1mVtsR/zOuqo8eMRTcaGLTjFJvCIjcGF40IOxMeaB9+rWPWI+/zB3NNtpmDGkIcCk5IrV3/d7UV1WwJJWnCg=='}, {'public-key': 'otp0n4h9tM8yu8LzH90DCoLInD6MBL/1H/Yuvtm/nYc='}, {'public-key': 'bP/DP9SIymrDqgwZFL733vkGOZAETEnTq5TPT/6wga4=', 'signature': 'umBBx8DIIWNrLD7beelo6Ybn06CGXRTDGZfzT/GLzMEUxD0DA8Uhjc/Z7nGtLmCPhqDe5hW9jRetq/Nah27bAQ=='}]</td>\n",
       "      <td>2.0</td>\n",
       "      <td>1.0</td>\n",
       "      <td>NaN</td>\n",
       "      <td>NaN</td>\n",
       "      <td>NaN</td>\n",
       "      <td>NaN</td>\n",
       "      <td>NaN</td>\n",
       "      <td>NaN</td>\n",
       "      <td>NaN</td>\n",
       "      <td>NaN</td>\n",
       "    </tr>\n",
       "    <tr>\n",
       "      <th>1</th>\n",
       "      <td>0</td>\n",
       "      <td>0</td>\n",
       "      <td>11611183</td>\n",
       "      <td>1000</td>\n",
       "      <td>11611180</td>\n",
       "      <td>wGHE2Pwdvd7S12BL5FaOP20EGYesN73ktiC1qzkkit8=</td>\n",
       "      <td>6WVY2VA54343UB3VARUWU2PVKIWDVTWS2DOJD2J6KW7GIUVTAJXQ</td>\n",
       "      <td>86</td>\n",
       "      <td>11612180</td>\n",
       "      <td>6DbM9NaiWbclZAjY4y324ZPGzRhWjRTPaAdPO1c45ck=</td>\n",
       "      <td>0</td>\n",
       "      <td>1611336983</td>\n",
       "      <td>ZG54ZBZ5LVWV3MTGOPDSKCBL5LEQTAPUTN5OQQZUMTAYV3JIICA7G3RJZE</td>\n",
       "      <td>4108</td>\n",
       "      <td>axfer</td>\n",
       "      <td>179013120000</td>\n",
       "      <td>31566704</td>\n",
       "      <td>0</td>\n",
       "      <td>2UEQTE5QDNXPI7M3TU44G6SYKLFWLPQO7EBZM7K7MHMQQMFI4QJPLHQFHM</td>\n",
       "      <td>NaN</td>\n",
       "      <td>NaN</td>\n",
       "      <td>NaN</td>\n",
       "      <td>NaN</td>\n",
       "      <td>NaN</td>\n",
       "      <td>ndl/FV8mzsvMzly9fM7iTzEkxVbRjtgkLtgGkdAkVCRfx6Wda69VdlS6voCiuqTaLWUkjo71bX7ktXmoVUWPCw==</td>\n",
       "      <td>NaN</td>\n",
       "      <td>NaN</td>\n",
       "      <td>NaN</td>\n",
       "      <td>NaN</td>\n",
       "      <td>NaN</td>\n",
       "      <td>NaN</td>\n",
       "      <td>NaN</td>\n",
       "    </tr>\n",
       "    <tr>\n",
       "      <th>2</th>\n",
       "      <td>0</td>\n",
       "      <td>0</td>\n",
       "      <td>11611260</td>\n",
       "      <td>1000</td>\n",
       "      <td>11611257</td>\n",
       "      <td>wGHE2Pwdvd7S12BL5FaOP20EGYesN73ktiC1qzkkit8=</td>\n",
       "      <td>DGA7DWZQ32547K7JPY3G6KRJBSOZPGOBU4PO6GEJEDGMUKRKFZKQ</td>\n",
       "      <td>8</td>\n",
       "      <td>11612257</td>\n",
       "      <td>eLqGSRpfz3NQrhvW6HJq0zgabADWeOgUe5MjRdCqdJw=</td>\n",
       "      <td>0</td>\n",
       "      <td>1611337317</td>\n",
       "      <td>2UEQTE5QDNXPI7M3TU44G6SYKLFWLPQO7EBZM7K7MHMQQMFI4QJPLHQFHM</td>\n",
       "      <td>5042</td>\n",
       "      <td>axfer</td>\n",
       "      <td>10207660000</td>\n",
       "      <td>31566704</td>\n",
       "      <td>0</td>\n",
       "      <td>ZG54ZBZ5LVWV3MTGOPDSKCBL5LEQTAPUTN5OQQZUMTAYV3JIICA7G3RJZE</td>\n",
       "      <td>[aK1OuXtuBSLKVmIfBUaG9soQjRTcmmIDV3bv+0PXQRk95qZxkoeaBO2zz/jxZ5Pa0pjJJSk/3jqUqV04deZaDQ==]</td>\n",
       "      <td>ASADwMyNCATw1oYPJgIgybvMhz1dbV2yZnPHJQgr6skJgfSbeuhDNGTBiu0oQIEgdKWxEDtStQNW3B5ww6xpYlGP2UWAn3r9TsiMXxnoWAExBCIMMRAjEhAxESQSEDEUKBIQMRctKQQQ</td>\n",
       "      <td>[{'public-key': 'v8w/YDBK3MmuXQg3njxy1K9cgEZIN2UQWDF3W5vp4MY=', 'signature': 'GE1mVtsR/zOuqo8eMRTcaGLTjFJvCIjcGF40IOxMeaB9+rWPWI+/zB3NNtpmDGkIcCk5IrV3/d7UV1WwJJWnCg=='}, {'public-key': 'otp0n4h9tM8yu8LzH90DCoLInD6MBL/1H/Yuvtm/nYc='}, {'public-key': 'bP/DP9SIymrDqgwZFL733vkGOZAETEnTq5TPT/6wga4=', 'signature': 'umBBx8DIIWNrLD7beelo6Ybn06CGXRTDGZfzT/GLzMEUxD0DA8Uhjc/Z7nGtLmCPhqDe5hW9jRetq/Nah27bAQ=='}]</td>\n",
       "      <td>2.0</td>\n",
       "      <td>1.0</td>\n",
       "      <td>NaN</td>\n",
       "      <td>NaN</td>\n",
       "      <td>NaN</td>\n",
       "      <td>NaN</td>\n",
       "      <td>NaN</td>\n",
       "      <td>NaN</td>\n",
       "      <td>NaN</td>\n",
       "      <td>NaN</td>\n",
       "    </tr>\n",
       "    <tr>\n",
       "      <th>3</th>\n",
       "      <td>0</td>\n",
       "      <td>0</td>\n",
       "      <td>11611318</td>\n",
       "      <td>1000</td>\n",
       "      <td>11611314</td>\n",
       "      <td>wGHE2Pwdvd7S12BL5FaOP20EGYesN73ktiC1qzkkit8=</td>\n",
       "      <td>BDLQ6PCZ3YMP7MMHMWBWD7MNMMMVOFV4CFLP2CFLGPJOI55VN55Q</td>\n",
       "      <td>12</td>\n",
       "      <td>11612314</td>\n",
       "      <td>QxgUQIckUR9+EjZbdjQQkoURyXCClC7oZundcwQC6EY=</td>\n",
       "      <td>0</td>\n",
       "      <td>1611337569</td>\n",
       "      <td>2UEQTE5QDNXPI7M3TU44G6SYKLFWLPQO7EBZM7K7MHMQQMFI4QJPLHQFHM</td>\n",
       "      <td>5042</td>\n",
       "      <td>axfer</td>\n",
       "      <td>160464270000</td>\n",
       "      <td>31566704</td>\n",
       "      <td>0</td>\n",
       "      <td>ZG54ZBZ5LVWV3MTGOPDSKCBL5LEQTAPUTN5OQQZUMTAYV3JIICA7G3RJZE</td>\n",
       "      <td>[4fUmZJEBpyOLfND9ZNlQ0xlIc3NFRgg4wVduJ6ipkQKdiiZWmIBFIkbHqgis3anl7kHbOHHJQ4SsGPHNsYSNAw==]</td>\n",
       "      <td>ASADwMyNCATw1oYPJgIgybvMhz1dbV2yZnPHJQgr6skJgfSbeuhDNGTBiu0oQIEgdKWxEDtStQNW3B5ww6xpYlGP2UWAn3r9TsiMXxnoWAExBCIMMRAjEhAxESQSEDEUKBIQMRctKQQQ</td>\n",
       "      <td>[{'public-key': 'v8w/YDBK3MmuXQg3njxy1K9cgEZIN2UQWDF3W5vp4MY=', 'signature': 'GE1mVtsR/zOuqo8eMRTcaGLTjFJvCIjcGF40IOxMeaB9+rWPWI+/zB3NNtpmDGkIcCk5IrV3/d7UV1WwJJWnCg=='}, {'public-key': 'otp0n4h9tM8yu8LzH90DCoLInD6MBL/1H/Yuvtm/nYc='}, {'public-key': 'bP/DP9SIymrDqgwZFL733vkGOZAETEnTq5TPT/6wga4=', 'signature': 'umBBx8DIIWNrLD7beelo6Ybn06CGXRTDGZfzT/GLzMEUxD0DA8Uhjc/Z7nGtLmCPhqDe5hW9jRetq/Nah27bAQ=='}]</td>\n",
       "      <td>2.0</td>\n",
       "      <td>1.0</td>\n",
       "      <td>NaN</td>\n",
       "      <td>NaN</td>\n",
       "      <td>NaN</td>\n",
       "      <td>NaN</td>\n",
       "      <td>NaN</td>\n",
       "      <td>NaN</td>\n",
       "      <td>NaN</td>\n",
       "      <td>NaN</td>\n",
       "    </tr>\n",
       "    <tr>\n",
       "      <th>4</th>\n",
       "      <td>0</td>\n",
       "      <td>0</td>\n",
       "      <td>11611329</td>\n",
       "      <td>1000</td>\n",
       "      <td>11611325</td>\n",
       "      <td>wGHE2Pwdvd7S12BL5FaOP20EGYesN73ktiC1qzkkit8=</td>\n",
       "      <td>IDWPGW5KJQSMYI7QQIN6CFOF6XZLYBO3USWQ77URTXNDDMAWSXTQ</td>\n",
       "      <td>15</td>\n",
       "      <td>11612325</td>\n",
       "      <td>vuFLevv0DfbIK6uGyAVQuFGgurNS9rlUvKaUuOnSR44=</td>\n",
       "      <td>0</td>\n",
       "      <td>1611337617</td>\n",
       "      <td>E2ROUACM6GEKXI4AL3N5TFKEKJZAQBH235XV57OXQRAQI5TOVGEVV7AG2I</td>\n",
       "      <td>714</td>\n",
       "      <td>axfer</td>\n",
       "      <td>35440000</td>\n",
       "      <td>31566704</td>\n",
       "      <td>0</td>\n",
       "      <td>2UEQTE5QDNXPI7M3TU44G6SYKLFWLPQO7EBZM7K7MHMQQMFI4QJPLHQFHM</td>\n",
       "      <td>NaN</td>\n",
       "      <td>NaN</td>\n",
       "      <td>NaN</td>\n",
       "      <td>NaN</td>\n",
       "      <td>NaN</td>\n",
       "      <td>1a4eXUGp4pRuUvWN0lCHQJWTnS9H0jyzwo5ohaX5r7VVu5kVPmms0Cscbq1LBHcxncI6LA49llaRH/ZZz5NUAQ==</td>\n",
       "      <td>NaN</td>\n",
       "      <td>NaN</td>\n",
       "      <td>NaN</td>\n",
       "      <td>NaN</td>\n",
       "      <td>NaN</td>\n",
       "      <td>NaN</td>\n",
       "      <td>NaN</td>\n",
       "    </tr>\n",
       "    <tr>\n",
       "      <th>...</th>\n",
       "      <td>...</td>\n",
       "      <td>...</td>\n",
       "      <td>...</td>\n",
       "      <td>...</td>\n",
       "      <td>...</td>\n",
       "      <td>...</td>\n",
       "      <td>...</td>\n",
       "      <td>...</td>\n",
       "      <td>...</td>\n",
       "      <td>...</td>\n",
       "      <td>...</td>\n",
       "      <td>...</td>\n",
       "      <td>...</td>\n",
       "      <td>...</td>\n",
       "      <td>...</td>\n",
       "      <td>...</td>\n",
       "      <td>...</td>\n",
       "      <td>...</td>\n",
       "      <td>...</td>\n",
       "      <td>...</td>\n",
       "      <td>...</td>\n",
       "      <td>...</td>\n",
       "      <td>...</td>\n",
       "      <td>...</td>\n",
       "      <td>...</td>\n",
       "      <td>...</td>\n",
       "      <td>...</td>\n",
       "      <td>...</td>\n",
       "      <td>...</td>\n",
       "      <td>...</td>\n",
       "      <td>...</td>\n",
       "      <td>...</td>\n",
       "    </tr>\n",
       "    <tr>\n",
       "      <th>4212</th>\n",
       "      <td>0</td>\n",
       "      <td>0</td>\n",
       "      <td>16710983</td>\n",
       "      <td>1000</td>\n",
       "      <td>16710972</td>\n",
       "      <td>wGHE2Pwdvd7S12BL5FaOP20EGYesN73ktiC1qzkkit8=</td>\n",
       "      <td>CNTTRH36LWBPJXBB5HJUP27SYY7K4LY43MUH5XZH3AIXJGOV76DA</td>\n",
       "      <td>5</td>\n",
       "      <td>16711972</td>\n",
       "      <td>NaN</td>\n",
       "      <td>0</td>\n",
       "      <td>1633757773</td>\n",
       "      <td>W3RTY34WM3WNAPESJX3NCHX6KP32O6V2RI5WNB3RBKKZE3RQAXYTLNUWCI</td>\n",
       "      <td>0</td>\n",
       "      <td>axfer</td>\n",
       "      <td>563434</td>\n",
       "      <td>31566704</td>\n",
       "      <td>0</td>\n",
       "      <td>UQWCBSYECUU76BEKIVMADEZFJUQXRXU4L3E6RZFXZRJTQW32VRRBTXGRXA</td>\n",
       "      <td>[]</td>\n",
       "      <td>BCAIAQAAAwTw1oYPBQYhBSQNRDEJMgMSRDEVMgMSRDEgMgMSRDIEIg1EMwEAMQASRDMBECEHEkQzARiBzfuGpwESRDMBGSISMwEbJRIQNwEaAIAJYm9vdHN0cmFwEhBAAFwzARkjEkQzARuBAhI3ARoAgARzd2FwEhBAAhMzARsiEkQ3ARoAgARtaW50EkABOTcBGgCABGJ1cm4SQAGDNwEaAIAGcmVkZWVtEkACMzcBGgCABGZlZXMSQAJQACEGIQQkIxJNMgQSRDcBGgEXIQUSNwEaAhckEhBEMwIAMQASRDMCECUSRDMCISMSRDMCIiMcEkQzAiMhBxJEMwIkIxJEMwIlgAdUTTFQT09MEkQzAiZRAA2ADVRpbnltYW4gUG9vbCASRDMCJ4ATaHR0cHM6Ly90aW55bWFuLm9yZxJEMwIpMgMSRDMCKjIDEkQzAisyAxJEMwIsMgMSRDMDADEAEkQzAxAhBBJEMwMRIQUSRDMDFDEAEkQzAxIjEkQkIxNAABAzAQEzAgEIMwMBCDUBQgGJMwQAMQASRDMEECEEEkQzBBEkEkQzBBQxABJEMwQSIxJEMwEBMwIBCDMDAQgzBAEINQFCAVQyBCEGEkQ3ARwBMQATRDcBHAEzBBQSRDMCADEAE0QzAhQxABJEMwMAMwIAEkQzAxQzAwczAxAiEk0xABJEMwQAMQASRDMEFDMCABJEMwEBMwQBCDUBQgD8MgQhBhJENwEcATEAE0Q3ARwBMwIUEkQzAxQzAwczAxAiEk03ARwBEkQzAgAxABJEMwIUMwQAEkQzAwAxABJEMwMUMwMHMwMQIhJNMwQAEkQzBAAxABNEMwQUMQASRDMBATMCAQgzAwEINQFCAI4yBCEEEkQ3ARwBMQATRDMCADcBHAESRDMCADEAE0QzAwAxABJEMwIUMwIHMwIQIhJNMQASRDMDFDMDBzMDECISTTMCABJEMwEBMwMBCDUBQgA8MgQlEkQ3ARwBMQATRDMCFDMCBzMCECISTTcBHAESRDMBATMCAQg1AUIAETIEJRJEMwEBMwIBCDUBQgAAMwAAMQATRDMABzEAEkQzAAg0AQ9D</td>\n",
       "      <td>NaN</td>\n",
       "      <td>NaN</td>\n",
       "      <td>NaN</td>\n",
       "      <td>NaN</td>\n",
       "      <td>T7LSQyZluyFtLdUzhmTrX4CIuCUQOxP4i0ANxMT5VvY=</td>\n",
       "      <td>mainnet-v1.0</td>\n",
       "      <td>NaN</td>\n",
       "      <td>NaN</td>\n",
       "      <td>NaN</td>\n",
       "      <td>NaN</td>\n",
       "      <td>NaN</td>\n",
       "    </tr>\n",
       "    <tr>\n",
       "      <th>4213</th>\n",
       "      <td>0</td>\n",
       "      <td>0</td>\n",
       "      <td>16710986</td>\n",
       "      <td>1000</td>\n",
       "      <td>16710981</td>\n",
       "      <td>wGHE2Pwdvd7S12BL5FaOP20EGYesN73ktiC1qzkkit8=</td>\n",
       "      <td>DW25FZKC5GEBMRB7CQ37WCGSLXFJJPL337CU2LYRKAVWYMA74SEA</td>\n",
       "      <td>25</td>\n",
       "      <td>16711981</td>\n",
       "      <td>NaN</td>\n",
       "      <td>0</td>\n",
       "      <td>1633757786</td>\n",
       "      <td>W3RTY34WM3WNAPESJX3NCHX6KP32O6V2RI5WNB3RBKKZE3RQAXYTLNUWCI</td>\n",
       "      <td>0</td>\n",
       "      <td>axfer</td>\n",
       "      <td>935203</td>\n",
       "      <td>31566704</td>\n",
       "      <td>0</td>\n",
       "      <td>OSAYZIOYVNNWAYXQWQSGBGVP3GWMKYVPA6UFN3Q7HVYPOCUSGGJI5VZNLA</td>\n",
       "      <td>[]</td>\n",
       "      <td>BCAIAQAAAwTw1oYPBQYhBSQNRDEJMgMSRDEVMgMSRDEgMgMSRDIEIg1EMwEAMQASRDMBECEHEkQzARiBzfuGpwESRDMBGSISMwEbJRIQNwEaAIAJYm9vdHN0cmFwEhBAAFwzARkjEkQzARuBAhI3ARoAgARzd2FwEhBAAhMzARsiEkQ3ARoAgARtaW50EkABOTcBGgCABGJ1cm4SQAGDNwEaAIAGcmVkZWVtEkACMzcBGgCABGZlZXMSQAJQACEGIQQkIxJNMgQSRDcBGgEXIQUSNwEaAhckEhBEMwIAMQASRDMCECUSRDMCISMSRDMCIiMcEkQzAiMhBxJEMwIkIxJEMwIlgAdUTTFQT09MEkQzAiZRAA2ADVRpbnltYW4gUG9vbCASRDMCJ4ATaHR0cHM6Ly90aW55bWFuLm9yZxJEMwIpMgMSRDMCKjIDEkQzAisyAxJEMwIsMgMSRDMDADEAEkQzAxAhBBJEMwMRIQUSRDMDFDEAEkQzAxIjEkQkIxNAABAzAQEzAgEIMwMBCDUBQgGJMwQAMQASRDMEECEEEkQzBBEkEkQzBBQxABJEMwQSIxJEMwEBMwIBCDMDAQgzBAEINQFCAVQyBCEGEkQ3ARwBMQATRDcBHAEzBBQSRDMCADEAE0QzAhQxABJEMwMAMwIAEkQzAxQzAwczAxAiEk0xABJEMwQAMQASRDMEFDMCABJEMwEBMwQBCDUBQgD8MgQhBhJENwEcATEAE0Q3ARwBMwIUEkQzAxQzAwczAxAiEk03ARwBEkQzAgAxABJEMwIUMwQAEkQzAwAxABJEMwMUMwMHMwMQIhJNMwQAEkQzBAAxABNEMwQUMQASRDMBATMCAQgzAwEINQFCAI4yBCEEEkQ3ARwBMQATRDMCADcBHAESRDMCADEAE0QzAwAxABJEMwIUMwIHMwIQIhJNMQASRDMDFDMDBzMDECISTTMCABJEMwEBMwMBCDUBQgA8MgQlEkQ3ARwBMQATRDMCFDMCBzMCECISTTcBHAESRDMBATMCAQg1AUIAETIEJRJEMwEBMwIBCDUBQgAAMwAAMQATRDMABzEAEkQzAAg0AQ9D</td>\n",
       "      <td>NaN</td>\n",
       "      <td>NaN</td>\n",
       "      <td>NaN</td>\n",
       "      <td>NaN</td>\n",
       "      <td>SRr/7nT118EesXQx2Lhb7NkdKrlt1/lm7yj1SXYj26A=</td>\n",
       "      <td>mainnet-v1.0</td>\n",
       "      <td>NaN</td>\n",
       "      <td>NaN</td>\n",
       "      <td>NaN</td>\n",
       "      <td>NaN</td>\n",
       "      <td>NaN</td>\n",
       "    </tr>\n",
       "    <tr>\n",
       "      <th>4214</th>\n",
       "      <td>0</td>\n",
       "      <td>0</td>\n",
       "      <td>16710993</td>\n",
       "      <td>1000</td>\n",
       "      <td>16710990</td>\n",
       "      <td>wGHE2Pwdvd7S12BL5FaOP20EGYesN73ktiC1qzkkit8=</td>\n",
       "      <td>MJQ63NJ4PZH567ZFOGM3RWLHKPCRXRB2NHCV22ZD2ED6CXMTFT2A</td>\n",
       "      <td>12</td>\n",
       "      <td>16711990</td>\n",
       "      <td>NaN</td>\n",
       "      <td>0</td>\n",
       "      <td>1633757817</td>\n",
       "      <td>OSAYZIOYVNNWAYXQWQSGBGVP3GWMKYVPA6UFN3Q7HVYPOCUSGGJI5VZNLA</td>\n",
       "      <td>0</td>\n",
       "      <td>axfer</td>\n",
       "      <td>187040742</td>\n",
       "      <td>31566704</td>\n",
       "      <td>0</td>\n",
       "      <td>W3RTY34WM3WNAPESJX3NCHX6KP32O6V2RI5WNB3RBKKZE3RQAXYTLNUWCI</td>\n",
       "      <td>NaN</td>\n",
       "      <td>NaN</td>\n",
       "      <td>NaN</td>\n",
       "      <td>NaN</td>\n",
       "      <td>NaN</td>\n",
       "      <td>w6b6EvN4IBlX6MbMd7xKttMq8HJjXXOkekUfQDmzsfNAuwM/eFcaxCSeOG8MEoeJjYiaPqDLUi06/j6qKO35CQ==</td>\n",
       "      <td>Vd80vnygXHQzsQDyFcHULmtR+MiEBiP1whqrpFt07dY=</td>\n",
       "      <td>mainnet-v1.0</td>\n",
       "      <td>NaN</td>\n",
       "      <td>NaN</td>\n",
       "      <td>NaN</td>\n",
       "      <td>NaN</td>\n",
       "      <td>NaN</td>\n",
       "    </tr>\n",
       "    <tr>\n",
       "      <th>4215</th>\n",
       "      <td>0</td>\n",
       "      <td>0</td>\n",
       "      <td>16710996</td>\n",
       "      <td>1000</td>\n",
       "      <td>16710993</td>\n",
       "      <td>wGHE2Pwdvd7S12BL5FaOP20EGYesN73ktiC1qzkkit8=</td>\n",
       "      <td>VXS4VUAM4V37UTPQG267D3E42PWMP3AB3RYFUOMUKJLZATHZ3EPQ</td>\n",
       "      <td>36</td>\n",
       "      <td>16711993</td>\n",
       "      <td>NaN</td>\n",
       "      <td>0</td>\n",
       "      <td>1633757830</td>\n",
       "      <td>W3RTY34WM3WNAPESJX3NCHX6KP32O6V2RI5WNB3RBKKZE3RQAXYTLNUWCI</td>\n",
       "      <td>0</td>\n",
       "      <td>axfer</td>\n",
       "      <td>995645639</td>\n",
       "      <td>31566704</td>\n",
       "      <td>0</td>\n",
       "      <td>OWC3ULNDAX5JUUS4UOVMFUCOVINWKN6XRFGFZGJROYEDPAJOPV7XRD5YNI</td>\n",
       "      <td>[]</td>\n",
       "      <td>BCAIAQAAAwTw1oYPBQYhBSQNRDEJMgMSRDEVMgMSRDEgMgMSRDIEIg1EMwEAMQASRDMBECEHEkQzARiBzfuGpwESRDMBGSISMwEbJRIQNwEaAIAJYm9vdHN0cmFwEhBAAFwzARkjEkQzARuBAhI3ARoAgARzd2FwEhBAAhMzARsiEkQ3ARoAgARtaW50EkABOTcBGgCABGJ1cm4SQAGDNwEaAIAGcmVkZWVtEkACMzcBGgCABGZlZXMSQAJQACEGIQQkIxJNMgQSRDcBGgEXIQUSNwEaAhckEhBEMwIAMQASRDMCECUSRDMCISMSRDMCIiMcEkQzAiMhBxJEMwIkIxJEMwIlgAdUTTFQT09MEkQzAiZRAA2ADVRpbnltYW4gUG9vbCASRDMCJ4ATaHR0cHM6Ly90aW55bWFuLm9yZxJEMwIpMgMSRDMCKjIDEkQzAisyAxJEMwIsMgMSRDMDADEAEkQzAxAhBBJEMwMRIQUSRDMDFDEAEkQzAxIjEkQkIxNAABAzAQEzAgEIMwMBCDUBQgGJMwQAMQASRDMEECEEEkQzBBEkEkQzBBQxABJEMwQSIxJEMwEBMwIBCDMDAQgzBAEINQFCAVQyBCEGEkQ3ARwBMQATRDcBHAEzBBQSRDMCADEAE0QzAhQxABJEMwMAMwIAEkQzAxQzAwczAxAiEk0xABJEMwQAMQASRDMEFDMCABJEMwEBMwQBCDUBQgD8MgQhBhJENwEcATEAE0Q3ARwBMwIUEkQzAxQzAwczAxAiEk03ARwBEkQzAgAxABJEMwIUMwQAEkQzAwAxABJEMwMUMwMHMwMQIhJNMwQAEkQzBAAxABNEMwQUMQASRDMBATMCAQgzAwEINQFCAI4yBCEEEkQ3ARwBMQATRDMCADcBHAESRDMCADEAE0QzAwAxABJEMwIUMwIHMwIQIhJNMQASRDMDFDMDBzMDECISTTMCABJEMwEBMwMBCDUBQgA8MgQlEkQ3ARwBMQATRDMCFDMCBzMCECISTTcBHAESRDMBATMCAQg1AUIAETIEJRJEMwEBMwIBCDUBQgAAMwAAMQATRDMABzEAEkQzAAg0AQ9D</td>\n",
       "      <td>NaN</td>\n",
       "      <td>NaN</td>\n",
       "      <td>NaN</td>\n",
       "      <td>NaN</td>\n",
       "      <td>zJhxTf1yljlDzm/Fpz5M7rTwL1VvEG6ykTffLQy5L5U=</td>\n",
       "      <td>mainnet-v1.0</td>\n",
       "      <td>NaN</td>\n",
       "      <td>NaN</td>\n",
       "      <td>NaN</td>\n",
       "      <td>NaN</td>\n",
       "      <td>NaN</td>\n",
       "    </tr>\n",
       "    <tr>\n",
       "      <th>4216</th>\n",
       "      <td>0</td>\n",
       "      <td>0</td>\n",
       "      <td>16711000</td>\n",
       "      <td>1000</td>\n",
       "      <td>16710991</td>\n",
       "      <td>wGHE2Pwdvd7S12BL5FaOP20EGYesN73ktiC1qzkkit8=</td>\n",
       "      <td>YXAP7LSFAFXAIHX6MMODGGPWZEBVLYKCOPVA2L7I6XPPGYXKNA5A</td>\n",
       "      <td>28</td>\n",
       "      <td>16711991</td>\n",
       "      <td>NaN</td>\n",
       "      <td>0</td>\n",
       "      <td>1633757847</td>\n",
       "      <td>W3RTY34WM3WNAPESJX3NCHX6KP32O6V2RI5WNB3RBKKZE3RQAXYTLNUWCI</td>\n",
       "      <td>0</td>\n",
       "      <td>axfer</td>\n",
       "      <td>18578911</td>\n",
       "      <td>31566704</td>\n",
       "      <td>0</td>\n",
       "      <td>A4HDVGV35QEKEVNSO3AZYOBJPVHEB5S6OY6RUMVFJVYQM3GVVH4W442K2U</td>\n",
       "      <td>[]</td>\n",
       "      <td>BCAIAQAAAwTw1oYPBQYhBSQNRDEJMgMSRDEVMgMSRDEgMgMSRDIEIg1EMwEAMQASRDMBECEHEkQzARiBzfuGpwESRDMBGSISMwEbJRIQNwEaAIAJYm9vdHN0cmFwEhBAAFwzARkjEkQzARuBAhI3ARoAgARzd2FwEhBAAhMzARsiEkQ3ARoAgARtaW50EkABOTcBGgCABGJ1cm4SQAGDNwEaAIAGcmVkZWVtEkACMzcBGgCABGZlZXMSQAJQACEGIQQkIxJNMgQSRDcBGgEXIQUSNwEaAhckEhBEMwIAMQASRDMCECUSRDMCISMSRDMCIiMcEkQzAiMhBxJEMwIkIxJEMwIlgAdUTTFQT09MEkQzAiZRAA2ADVRpbnltYW4gUG9vbCASRDMCJ4ATaHR0cHM6Ly90aW55bWFuLm9yZxJEMwIpMgMSRDMCKjIDEkQzAisyAxJEMwIsMgMSRDMDADEAEkQzAxAhBBJEMwMRIQUSRDMDFDEAEkQzAxIjEkQkIxNAABAzAQEzAgEIMwMBCDUBQgGJMwQAMQASRDMEECEEEkQzBBEkEkQzBBQxABJEMwQSIxJEMwEBMwIBCDMDAQgzBAEINQFCAVQyBCEGEkQ3ARwBMQATRDcBHAEzBBQSRDMCADEAE0QzAhQxABJEMwMAMwIAEkQzAxQzAwczAxAiEk0xABJEMwQAMQASRDMEFDMCABJEMwEBMwQBCDUBQgD8MgQhBhJENwEcATEAE0Q3ARwBMwIUEkQzAxQzAwczAxAiEk03ARwBEkQzAgAxABJEMwIUMwQAEkQzAwAxABJEMwMUMwMHMwMQIhJNMwQAEkQzBAAxABNEMwQUMQASRDMBATMCAQgzAwEINQFCAI4yBCEEEkQ3ARwBMQATRDMCADcBHAESRDMCADEAE0QzAwAxABJEMwIUMwIHMwIQIhJNMQASRDMDFDMDBzMDECISTTMCABJEMwEBMwMBCDUBQgA8MgQlEkQ3ARwBMQATRDMCFDMCBzMCECISTTcBHAESRDMBATMCAQg1AUIAETIEJRJEMwEBMwIBCDUBQgAAMwAAMQATRDMABzEAEkQzAAg0AQ9D</td>\n",
       "      <td>NaN</td>\n",
       "      <td>NaN</td>\n",
       "      <td>NaN</td>\n",
       "      <td>NaN</td>\n",
       "      <td>1xMetAuMM/4BlRKyjnko1KyWvjHcij3p8BvrEpTniwc=</td>\n",
       "      <td>mainnet-v1.0</td>\n",
       "      <td>NaN</td>\n",
       "      <td>NaN</td>\n",
       "      <td>NaN</td>\n",
       "      <td>NaN</td>\n",
       "      <td>NaN</td>\n",
       "    </tr>\n",
       "  </tbody>\n",
       "</table>\n",
       "<p>66855 rows × 32 columns</p>\n",
       "</div>"
      ],
      "text/plain": [
       "      close-rewards  closing-amount  confirmed-round   fee  first-valid  \\\n",
       "0                 0               0         11611122  1000     11611119   \n",
       "1                 0               0         11611183  1000     11611180   \n",
       "2                 0               0         11611260  1000     11611257   \n",
       "3                 0               0         11611318  1000     11611314   \n",
       "4                 0               0         11611329  1000     11611325   \n",
       "...             ...             ...              ...   ...          ...   \n",
       "4212              0               0         16710983  1000     16710972   \n",
       "4213              0               0         16710986  1000     16710981   \n",
       "4214              0               0         16710993  1000     16710990   \n",
       "4215              0               0         16710996  1000     16710993   \n",
       "4216              0               0         16711000  1000     16710991   \n",
       "\n",
       "                                      genesis-hash  \\\n",
       "0     wGHE2Pwdvd7S12BL5FaOP20EGYesN73ktiC1qzkkit8=   \n",
       "1     wGHE2Pwdvd7S12BL5FaOP20EGYesN73ktiC1qzkkit8=   \n",
       "2     wGHE2Pwdvd7S12BL5FaOP20EGYesN73ktiC1qzkkit8=   \n",
       "3     wGHE2Pwdvd7S12BL5FaOP20EGYesN73ktiC1qzkkit8=   \n",
       "4     wGHE2Pwdvd7S12BL5FaOP20EGYesN73ktiC1qzkkit8=   \n",
       "...                                            ...   \n",
       "4212  wGHE2Pwdvd7S12BL5FaOP20EGYesN73ktiC1qzkkit8=   \n",
       "4213  wGHE2Pwdvd7S12BL5FaOP20EGYesN73ktiC1qzkkit8=   \n",
       "4214  wGHE2Pwdvd7S12BL5FaOP20EGYesN73ktiC1qzkkit8=   \n",
       "4215  wGHE2Pwdvd7S12BL5FaOP20EGYesN73ktiC1qzkkit8=   \n",
       "4216  wGHE2Pwdvd7S12BL5FaOP20EGYesN73ktiC1qzkkit8=   \n",
       "\n",
       "                                                        id  \\\n",
       "0     QAIGEWDW3GY4MAMV5K3IZR4BLFVMAXCRCYYNMOYCYRZ22FGSJILQ   \n",
       "1     6WVY2VA54343UB3VARUWU2PVKIWDVTWS2DOJD2J6KW7GIUVTAJXQ   \n",
       "2     DGA7DWZQ32547K7JPY3G6KRJBSOZPGOBU4PO6GEJEDGMUKRKFZKQ   \n",
       "3     BDLQ6PCZ3YMP7MMHMWBWD7MNMMMVOFV4CFLP2CFLGPJOI55VN55Q   \n",
       "4     IDWPGW5KJQSMYI7QQIN6CFOF6XZLYBO3USWQ77URTXNDDMAWSXTQ   \n",
       "...                                                    ...   \n",
       "4212  CNTTRH36LWBPJXBB5HJUP27SYY7K4LY43MUH5XZH3AIXJGOV76DA   \n",
       "4213  DW25FZKC5GEBMRB7CQ37WCGSLXFJJPL337CU2LYRKAVWYMA74SEA   \n",
       "4214  MJQ63NJ4PZH567ZFOGM3RWLHKPCRXRB2NHCV22ZD2ED6CXMTFT2A   \n",
       "4215  VXS4VUAM4V37UTPQG267D3E42PWMP3AB3RYFUOMUKJLZATHZ3EPQ   \n",
       "4216  YXAP7LSFAFXAIHX6MMODGGPWZEBVLYKCOPVA2L7I6XPPGYXKNA5A   \n",
       "\n",
       "      intra-round-offset  last-valid  \\\n",
       "0                     41    11612119   \n",
       "1                     86    11612180   \n",
       "2                      8    11612257   \n",
       "3                     12    11612314   \n",
       "4                     15    11612325   \n",
       "...                  ...         ...   \n",
       "4212                   5    16711972   \n",
       "4213                  25    16711981   \n",
       "4214                  12    16711990   \n",
       "4215                  36    16711993   \n",
       "4216                  28    16711991   \n",
       "\n",
       "                                             lease  receiver-rewards  \\\n",
       "0     apZ2NEmRFs/6d73LYzh5BfqyF7XSSy4Pi6e2QLN7iHc=                 0   \n",
       "1     6DbM9NaiWbclZAjY4y324ZPGzRhWjRTPaAdPO1c45ck=                 0   \n",
       "2     eLqGSRpfz3NQrhvW6HJq0zgabADWeOgUe5MjRdCqdJw=                 0   \n",
       "3     QxgUQIckUR9+EjZbdjQQkoURyXCClC7oZundcwQC6EY=                 0   \n",
       "4     vuFLevv0DfbIK6uGyAVQuFGgurNS9rlUvKaUuOnSR44=                 0   \n",
       "...                                            ...               ...   \n",
       "4212                                           NaN                 0   \n",
       "4213                                           NaN                 0   \n",
       "4214                                           NaN                 0   \n",
       "4215                                           NaN                 0   \n",
       "4216                                           NaN                 0   \n",
       "\n",
       "      round-time                                                      sender  \\\n",
       "0     1611336718  2UEQTE5QDNXPI7M3TU44G6SYKLFWLPQO7EBZM7K7MHMQQMFI4QJPLHQFHM   \n",
       "1     1611336983  ZG54ZBZ5LVWV3MTGOPDSKCBL5LEQTAPUTN5OQQZUMTAYV3JIICA7G3RJZE   \n",
       "2     1611337317  2UEQTE5QDNXPI7M3TU44G6SYKLFWLPQO7EBZM7K7MHMQQMFI4QJPLHQFHM   \n",
       "3     1611337569  2UEQTE5QDNXPI7M3TU44G6SYKLFWLPQO7EBZM7K7MHMQQMFI4QJPLHQFHM   \n",
       "4     1611337617  E2ROUACM6GEKXI4AL3N5TFKEKJZAQBH235XV57OXQRAQI5TOVGEVV7AG2I   \n",
       "...          ...                                                         ...   \n",
       "4212  1633757773  W3RTY34WM3WNAPESJX3NCHX6KP32O6V2RI5WNB3RBKKZE3RQAXYTLNUWCI   \n",
       "4213  1633757786  W3RTY34WM3WNAPESJX3NCHX6KP32O6V2RI5WNB3RBKKZE3RQAXYTLNUWCI   \n",
       "4214  1633757817  OSAYZIOYVNNWAYXQWQSGBGVP3GWMKYVPA6UFN3Q7HVYPOCUSGGJI5VZNLA   \n",
       "4215  1633757830  W3RTY34WM3WNAPESJX3NCHX6KP32O6V2RI5WNB3RBKKZE3RQAXYTLNUWCI   \n",
       "4216  1633757847  W3RTY34WM3WNAPESJX3NCHX6KP32O6V2RI5WNB3RBKKZE3RQAXYTLNUWCI   \n",
       "\n",
       "      sender-rewards tx-type  asset-transfer-transaction.amount  \\\n",
       "0              10084   axfer                         7162930000   \n",
       "1               4108   axfer                       179013120000   \n",
       "2               5042   axfer                        10207660000   \n",
       "3               5042   axfer                       160464270000   \n",
       "4                714   axfer                           35440000   \n",
       "...              ...     ...                                ...   \n",
       "4212               0   axfer                             563434   \n",
       "4213               0   axfer                             935203   \n",
       "4214               0   axfer                          187040742   \n",
       "4215               0   axfer                          995645639   \n",
       "4216               0   axfer                           18578911   \n",
       "\n",
       "      asset-transfer-transaction.asset-id  \\\n",
       "0                                31566704   \n",
       "1                                31566704   \n",
       "2                                31566704   \n",
       "3                                31566704   \n",
       "4                                31566704   \n",
       "...                                   ...   \n",
       "4212                             31566704   \n",
       "4213                             31566704   \n",
       "4214                             31566704   \n",
       "4215                             31566704   \n",
       "4216                             31566704   \n",
       "\n",
       "      asset-transfer-transaction.close-amount  \\\n",
       "0                                           0   \n",
       "1                                           0   \n",
       "2                                           0   \n",
       "3                                           0   \n",
       "4                                           0   \n",
       "...                                       ...   \n",
       "4212                                        0   \n",
       "4213                                        0   \n",
       "4214                                        0   \n",
       "4215                                        0   \n",
       "4216                                        0   \n",
       "\n",
       "                             asset-transfer-transaction.receiver  \\\n",
       "0     ZG54ZBZ5LVWV3MTGOPDSKCBL5LEQTAPUTN5OQQZUMTAYV3JIICA7G3RJZE   \n",
       "1     2UEQTE5QDNXPI7M3TU44G6SYKLFWLPQO7EBZM7K7MHMQQMFI4QJPLHQFHM   \n",
       "2     ZG54ZBZ5LVWV3MTGOPDSKCBL5LEQTAPUTN5OQQZUMTAYV3JIICA7G3RJZE   \n",
       "3     ZG54ZBZ5LVWV3MTGOPDSKCBL5LEQTAPUTN5OQQZUMTAYV3JIICA7G3RJZE   \n",
       "4     2UEQTE5QDNXPI7M3TU44G6SYKLFWLPQO7EBZM7K7MHMQQMFI4QJPLHQFHM   \n",
       "...                                                          ...   \n",
       "4212  UQWCBSYECUU76BEKIVMADEZFJUQXRXU4L3E6RZFXZRJTQW32VRRBTXGRXA   \n",
       "4213  OSAYZIOYVNNWAYXQWQSGBGVP3GWMKYVPA6UFN3Q7HVYPOCUSGGJI5VZNLA   \n",
       "4214  W3RTY34WM3WNAPESJX3NCHX6KP32O6V2RI5WNB3RBKKZE3RQAXYTLNUWCI   \n",
       "4215  OWC3ULNDAX5JUUS4UOVMFUCOVINWKN6XRFGFZGJROYEDPAJOPV7XRD5YNI   \n",
       "4216  A4HDVGV35QEKEVNSO3AZYOBJPVHEB5S6OY6RUMVFJVYQM3GVVH4W442K2U   \n",
       "\n",
       "                                                                         signature.logicsig.args  \\\n",
       "0     [6zAMlShmCsFTk8tED45rsfC/s4xiTZ/RwBmUtnu+ztyb44w5CJo7wCoW96ovo2VGy3yd5WLICVc6KNX611nwAA==]   \n",
       "1                                                                                            NaN   \n",
       "2     [aK1OuXtuBSLKVmIfBUaG9soQjRTcmmIDV3bv+0PXQRk95qZxkoeaBO2zz/jxZ5Pa0pjJJSk/3jqUqV04deZaDQ==]   \n",
       "3     [4fUmZJEBpyOLfND9ZNlQ0xlIc3NFRgg4wVduJ6ipkQKdiiZWmIBFIkbHqgis3anl7kHbOHHJQ4SsGPHNsYSNAw==]   \n",
       "4                                                                                            NaN   \n",
       "...                                                                                          ...   \n",
       "4212                                                                                          []   \n",
       "4213                                                                                          []   \n",
       "4214                                                                                         NaN   \n",
       "4215                                                                                          []   \n",
       "4216                                                                                          []   \n",
       "\n",
       "                                                                                                                                                                                                                                                                                                                                                                                                                                                                                                                                                                                                                                                                                                                                                                                                                                                                                                                                                                                                                                                                                                                  signature.logicsig.logic  \\\n",
       "0                                                                                                                                                                                                                                                                                                                                                                                                                                                                                                                                                                                                                                                                                                                                                                                                                                                                                                                                                                                             ASADwMyNCATw1oYPJgIgybvMhz1dbV2yZnPHJQgr6skJgfSbeuhDNGTBiu0oQIEgdKWxEDtStQNW3B5ww6xpYlGP2UWAn3r9TsiMXxnoWAExBCIMMRAjEhAxESQSEDEUKBIQMRctKQQQ   \n",
       "1                                                                                                                                                                                                                                                                                                                                                                                                                                                                                                                                                                                                                                                                                                                                                                                                                                                                                                                                                                                                                                                                                                                                      NaN   \n",
       "2                                                                                                                                                                                                                                                                                                                                                                                                                                                                                                                                                                                                                                                                                                                                                                                                                                                                                                                                                                                             ASADwMyNCATw1oYPJgIgybvMhz1dbV2yZnPHJQgr6skJgfSbeuhDNGTBiu0oQIEgdKWxEDtStQNW3B5ww6xpYlGP2UWAn3r9TsiMXxnoWAExBCIMMRAjEhAxESQSEDEUKBIQMRctKQQQ   \n",
       "3                                                                                                                                                                                                                                                                                                                                                                                                                                                                                                                                                                                                                                                                                                                                                                                                                                                                                                                                                                                             ASADwMyNCATw1oYPJgIgybvMhz1dbV2yZnPHJQgr6skJgfSbeuhDNGTBiu0oQIEgdKWxEDtStQNW3B5ww6xpYlGP2UWAn3r9TsiMXxnoWAExBCIMMRAjEhAxESQSEDEUKBIQMRctKQQQ   \n",
       "4                                                                                                                                                                                                                                                                                                                                                                                                                                                                                                                                                                                                                                                                                                                                                                                                                                                                                                                                                                                                                                                                                                                                      NaN   \n",
       "...                                                                                                                                                                                                                                                                                                                                                                                                                                                                                                                                                                                                                                                                                                                                                                                                                                                                                                                                                                                                                                                                                                                                    ...   \n",
       "4212  BCAIAQAAAwTw1oYPBQYhBSQNRDEJMgMSRDEVMgMSRDEgMgMSRDIEIg1EMwEAMQASRDMBECEHEkQzARiBzfuGpwESRDMBGSISMwEbJRIQNwEaAIAJYm9vdHN0cmFwEhBAAFwzARkjEkQzARuBAhI3ARoAgARzd2FwEhBAAhMzARsiEkQ3ARoAgARtaW50EkABOTcBGgCABGJ1cm4SQAGDNwEaAIAGcmVkZWVtEkACMzcBGgCABGZlZXMSQAJQACEGIQQkIxJNMgQSRDcBGgEXIQUSNwEaAhckEhBEMwIAMQASRDMCECUSRDMCISMSRDMCIiMcEkQzAiMhBxJEMwIkIxJEMwIlgAdUTTFQT09MEkQzAiZRAA2ADVRpbnltYW4gUG9vbCASRDMCJ4ATaHR0cHM6Ly90aW55bWFuLm9yZxJEMwIpMgMSRDMCKjIDEkQzAisyAxJEMwIsMgMSRDMDADEAEkQzAxAhBBJEMwMRIQUSRDMDFDEAEkQzAxIjEkQkIxNAABAzAQEzAgEIMwMBCDUBQgGJMwQAMQASRDMEECEEEkQzBBEkEkQzBBQxABJEMwQSIxJEMwEBMwIBCDMDAQgzBAEINQFCAVQyBCEGEkQ3ARwBMQATRDcBHAEzBBQSRDMCADEAE0QzAhQxABJEMwMAMwIAEkQzAxQzAwczAxAiEk0xABJEMwQAMQASRDMEFDMCABJEMwEBMwQBCDUBQgD8MgQhBhJENwEcATEAE0Q3ARwBMwIUEkQzAxQzAwczAxAiEk03ARwBEkQzAgAxABJEMwIUMwQAEkQzAwAxABJEMwMUMwMHMwMQIhJNMwQAEkQzBAAxABNEMwQUMQASRDMBATMCAQgzAwEINQFCAI4yBCEEEkQ3ARwBMQATRDMCADcBHAESRDMCADEAE0QzAwAxABJEMwIUMwIHMwIQIhJNMQASRDMDFDMDBzMDECISTTMCABJEMwEBMwMBCDUBQgA8MgQlEkQ3ARwBMQATRDMCFDMCBzMCECISTTcBHAESRDMBATMCAQg1AUIAETIEJRJEMwEBMwIBCDUBQgAAMwAAMQATRDMABzEAEkQzAAg0AQ9D   \n",
       "4213  BCAIAQAAAwTw1oYPBQYhBSQNRDEJMgMSRDEVMgMSRDEgMgMSRDIEIg1EMwEAMQASRDMBECEHEkQzARiBzfuGpwESRDMBGSISMwEbJRIQNwEaAIAJYm9vdHN0cmFwEhBAAFwzARkjEkQzARuBAhI3ARoAgARzd2FwEhBAAhMzARsiEkQ3ARoAgARtaW50EkABOTcBGgCABGJ1cm4SQAGDNwEaAIAGcmVkZWVtEkACMzcBGgCABGZlZXMSQAJQACEGIQQkIxJNMgQSRDcBGgEXIQUSNwEaAhckEhBEMwIAMQASRDMCECUSRDMCISMSRDMCIiMcEkQzAiMhBxJEMwIkIxJEMwIlgAdUTTFQT09MEkQzAiZRAA2ADVRpbnltYW4gUG9vbCASRDMCJ4ATaHR0cHM6Ly90aW55bWFuLm9yZxJEMwIpMgMSRDMCKjIDEkQzAisyAxJEMwIsMgMSRDMDADEAEkQzAxAhBBJEMwMRIQUSRDMDFDEAEkQzAxIjEkQkIxNAABAzAQEzAgEIMwMBCDUBQgGJMwQAMQASRDMEECEEEkQzBBEkEkQzBBQxABJEMwQSIxJEMwEBMwIBCDMDAQgzBAEINQFCAVQyBCEGEkQ3ARwBMQATRDcBHAEzBBQSRDMCADEAE0QzAhQxABJEMwMAMwIAEkQzAxQzAwczAxAiEk0xABJEMwQAMQASRDMEFDMCABJEMwEBMwQBCDUBQgD8MgQhBhJENwEcATEAE0Q3ARwBMwIUEkQzAxQzAwczAxAiEk03ARwBEkQzAgAxABJEMwIUMwQAEkQzAwAxABJEMwMUMwMHMwMQIhJNMwQAEkQzBAAxABNEMwQUMQASRDMBATMCAQgzAwEINQFCAI4yBCEEEkQ3ARwBMQATRDMCADcBHAESRDMCADEAE0QzAwAxABJEMwIUMwIHMwIQIhJNMQASRDMDFDMDBzMDECISTTMCABJEMwEBMwMBCDUBQgA8MgQlEkQ3ARwBMQATRDMCFDMCBzMCECISTTcBHAESRDMBATMCAQg1AUIAETIEJRJEMwEBMwIBCDUBQgAAMwAAMQATRDMABzEAEkQzAAg0AQ9D   \n",
       "4214                                                                                                                                                                                                                                                                                                                                                                                                                                                                                                                                                                                                                                                                                                                                                                                                                                                                                                                                                                                                                                                                                                                                   NaN   \n",
       "4215  BCAIAQAAAwTw1oYPBQYhBSQNRDEJMgMSRDEVMgMSRDEgMgMSRDIEIg1EMwEAMQASRDMBECEHEkQzARiBzfuGpwESRDMBGSISMwEbJRIQNwEaAIAJYm9vdHN0cmFwEhBAAFwzARkjEkQzARuBAhI3ARoAgARzd2FwEhBAAhMzARsiEkQ3ARoAgARtaW50EkABOTcBGgCABGJ1cm4SQAGDNwEaAIAGcmVkZWVtEkACMzcBGgCABGZlZXMSQAJQACEGIQQkIxJNMgQSRDcBGgEXIQUSNwEaAhckEhBEMwIAMQASRDMCECUSRDMCISMSRDMCIiMcEkQzAiMhBxJEMwIkIxJEMwIlgAdUTTFQT09MEkQzAiZRAA2ADVRpbnltYW4gUG9vbCASRDMCJ4ATaHR0cHM6Ly90aW55bWFuLm9yZxJEMwIpMgMSRDMCKjIDEkQzAisyAxJEMwIsMgMSRDMDADEAEkQzAxAhBBJEMwMRIQUSRDMDFDEAEkQzAxIjEkQkIxNAABAzAQEzAgEIMwMBCDUBQgGJMwQAMQASRDMEECEEEkQzBBEkEkQzBBQxABJEMwQSIxJEMwEBMwIBCDMDAQgzBAEINQFCAVQyBCEGEkQ3ARwBMQATRDcBHAEzBBQSRDMCADEAE0QzAhQxABJEMwMAMwIAEkQzAxQzAwczAxAiEk0xABJEMwQAMQASRDMEFDMCABJEMwEBMwQBCDUBQgD8MgQhBhJENwEcATEAE0Q3ARwBMwIUEkQzAxQzAwczAxAiEk03ARwBEkQzAgAxABJEMwIUMwQAEkQzAwAxABJEMwMUMwMHMwMQIhJNMwQAEkQzBAAxABNEMwQUMQASRDMBATMCAQgzAwEINQFCAI4yBCEEEkQ3ARwBMQATRDMCADcBHAESRDMCADEAE0QzAwAxABJEMwIUMwIHMwIQIhJNMQASRDMDFDMDBzMDECISTTMCABJEMwEBMwMBCDUBQgA8MgQlEkQ3ARwBMQATRDMCFDMCBzMCECISTTcBHAESRDMBATMCAQg1AUIAETIEJRJEMwEBMwIBCDUBQgAAMwAAMQATRDMABzEAEkQzAAg0AQ9D   \n",
       "4216  BCAIAQAAAwTw1oYPBQYhBSQNRDEJMgMSRDEVMgMSRDEgMgMSRDIEIg1EMwEAMQASRDMBECEHEkQzARiBzfuGpwESRDMBGSISMwEbJRIQNwEaAIAJYm9vdHN0cmFwEhBAAFwzARkjEkQzARuBAhI3ARoAgARzd2FwEhBAAhMzARsiEkQ3ARoAgARtaW50EkABOTcBGgCABGJ1cm4SQAGDNwEaAIAGcmVkZWVtEkACMzcBGgCABGZlZXMSQAJQACEGIQQkIxJNMgQSRDcBGgEXIQUSNwEaAhckEhBEMwIAMQASRDMCECUSRDMCISMSRDMCIiMcEkQzAiMhBxJEMwIkIxJEMwIlgAdUTTFQT09MEkQzAiZRAA2ADVRpbnltYW4gUG9vbCASRDMCJ4ATaHR0cHM6Ly90aW55bWFuLm9yZxJEMwIpMgMSRDMCKjIDEkQzAisyAxJEMwIsMgMSRDMDADEAEkQzAxAhBBJEMwMRIQUSRDMDFDEAEkQzAxIjEkQkIxNAABAzAQEzAgEIMwMBCDUBQgGJMwQAMQASRDMEECEEEkQzBBEkEkQzBBQxABJEMwQSIxJEMwEBMwIBCDMDAQgzBAEINQFCAVQyBCEGEkQ3ARwBMQATRDcBHAEzBBQSRDMCADEAE0QzAhQxABJEMwMAMwIAEkQzAxQzAwczAxAiEk0xABJEMwQAMQASRDMEFDMCABJEMwEBMwQBCDUBQgD8MgQhBhJENwEcATEAE0Q3ARwBMwIUEkQzAxQzAwczAxAiEk03ARwBEkQzAgAxABJEMwIUMwQAEkQzAwAxABJEMwMUMwMHMwMQIhJNMwQAEkQzBAAxABNEMwQUMQASRDMBATMCAQgzAwEINQFCAI4yBCEEEkQ3ARwBMQATRDMCADcBHAESRDMCADEAE0QzAwAxABJEMwIUMwIHMwIQIhJNMQASRDMDFDMDBzMDECISTTMCABJEMwEBMwMBCDUBQgA8MgQlEkQ3ARwBMQATRDMCFDMCBzMCECISTTcBHAESRDMBATMCAQg1AUIAETIEJRJEMwEBMwIBCDUBQgAAMwAAMQATRDMABzEAEkQzAAg0AQ9D   \n",
       "\n",
       "                                                                                                                                                                                                                                                                                                                                                                      signature.logicsig.multisig-signature.subsignature  \\\n",
       "0     [{'public-key': 'v8w/YDBK3MmuXQg3njxy1K9cgEZIN2UQWDF3W5vp4MY=', 'signature': 'GE1mVtsR/zOuqo8eMRTcaGLTjFJvCIjcGF40IOxMeaB9+rWPWI+/zB3NNtpmDGkIcCk5IrV3/d7UV1WwJJWnCg=='}, {'public-key': 'otp0n4h9tM8yu8LzH90DCoLInD6MBL/1H/Yuvtm/nYc='}, {'public-key': 'bP/DP9SIymrDqgwZFL733vkGOZAETEnTq5TPT/6wga4=', 'signature': 'umBBx8DIIWNrLD7beelo6Ybn06CGXRTDGZfzT/GLzMEUxD0DA8Uhjc/Z7nGtLmCPhqDe5hW9jRetq/Nah27bAQ=='}]   \n",
       "1                                                                                                                                                                                                                                                                                                                                                                                                                    NaN   \n",
       "2     [{'public-key': 'v8w/YDBK3MmuXQg3njxy1K9cgEZIN2UQWDF3W5vp4MY=', 'signature': 'GE1mVtsR/zOuqo8eMRTcaGLTjFJvCIjcGF40IOxMeaB9+rWPWI+/zB3NNtpmDGkIcCk5IrV3/d7UV1WwJJWnCg=='}, {'public-key': 'otp0n4h9tM8yu8LzH90DCoLInD6MBL/1H/Yuvtm/nYc='}, {'public-key': 'bP/DP9SIymrDqgwZFL733vkGOZAETEnTq5TPT/6wga4=', 'signature': 'umBBx8DIIWNrLD7beelo6Ybn06CGXRTDGZfzT/GLzMEUxD0DA8Uhjc/Z7nGtLmCPhqDe5hW9jRetq/Nah27bAQ=='}]   \n",
       "3     [{'public-key': 'v8w/YDBK3MmuXQg3njxy1K9cgEZIN2UQWDF3W5vp4MY=', 'signature': 'GE1mVtsR/zOuqo8eMRTcaGLTjFJvCIjcGF40IOxMeaB9+rWPWI+/zB3NNtpmDGkIcCk5IrV3/d7UV1WwJJWnCg=='}, {'public-key': 'otp0n4h9tM8yu8LzH90DCoLInD6MBL/1H/Yuvtm/nYc='}, {'public-key': 'bP/DP9SIymrDqgwZFL733vkGOZAETEnTq5TPT/6wga4=', 'signature': 'umBBx8DIIWNrLD7beelo6Ybn06CGXRTDGZfzT/GLzMEUxD0DA8Uhjc/Z7nGtLmCPhqDe5hW9jRetq/Nah27bAQ=='}]   \n",
       "4                                                                                                                                                                                                                                                                                                                                                                                                                    NaN   \n",
       "...                                                                                                                                                                                                                                                                                                                                                                                                                  ...   \n",
       "4212                                                                                                                                                                                                                                                                                                                                                                                                                 NaN   \n",
       "4213                                                                                                                                                                                                                                                                                                                                                                                                                 NaN   \n",
       "4214                                                                                                                                                                                                                                                                                                                                                                                                                 NaN   \n",
       "4215                                                                                                                                                                                                                                                                                                                                                                                                                 NaN   \n",
       "4216                                                                                                                                                                                                                                                                                                                                                                                                                 NaN   \n",
       "\n",
       "      signature.logicsig.multisig-signature.threshold  \\\n",
       "0                                                 2.0   \n",
       "1                                                 NaN   \n",
       "2                                                 2.0   \n",
       "3                                                 2.0   \n",
       "4                                                 NaN   \n",
       "...                                               ...   \n",
       "4212                                              NaN   \n",
       "4213                                              NaN   \n",
       "4214                                              NaN   \n",
       "4215                                              NaN   \n",
       "4216                                              NaN   \n",
       "\n",
       "      signature.logicsig.multisig-signature.version  \\\n",
       "0                                               1.0   \n",
       "1                                               NaN   \n",
       "2                                               1.0   \n",
       "3                                               1.0   \n",
       "4                                               NaN   \n",
       "...                                             ...   \n",
       "4212                                            NaN   \n",
       "4213                                            NaN   \n",
       "4214                                            NaN   \n",
       "4215                                            NaN   \n",
       "4216                                            NaN   \n",
       "\n",
       "                                                                                 signature.sig  \\\n",
       "0                                                                                          NaN   \n",
       "1     ndl/FV8mzsvMzly9fM7iTzEkxVbRjtgkLtgGkdAkVCRfx6Wda69VdlS6voCiuqTaLWUkjo71bX7ktXmoVUWPCw==   \n",
       "2                                                                                          NaN   \n",
       "3                                                                                          NaN   \n",
       "4     1a4eXUGp4pRuUvWN0lCHQJWTnS9H0jyzwo5ohaX5r7VVu5kVPmms0Cscbq1LBHcxncI6LA49llaRH/ZZz5NUAQ==   \n",
       "...                                                                                        ...   \n",
       "4212                                                                                       NaN   \n",
       "4213                                                                                       NaN   \n",
       "4214  w6b6EvN4IBlX6MbMd7xKttMq8HJjXXOkekUfQDmzsfNAuwM/eFcaxCSeOG8MEoeJjYiaPqDLUi06/j6qKO35CQ==   \n",
       "4215                                                                                       NaN   \n",
       "4216                                                                                       NaN   \n",
       "\n",
       "                                             group    genesis-id note  \\\n",
       "0                                              NaN           NaN  NaN   \n",
       "1                                              NaN           NaN  NaN   \n",
       "2                                              NaN           NaN  NaN   \n",
       "3                                              NaN           NaN  NaN   \n",
       "4                                              NaN           NaN  NaN   \n",
       "...                                            ...           ...  ...   \n",
       "4212  T7LSQyZluyFtLdUzhmTrX4CIuCUQOxP4i0ANxMT5VvY=  mainnet-v1.0  NaN   \n",
       "4213  SRr/7nT118EesXQx2Lhb7NkdKrlt1/lm7yj1SXYj26A=  mainnet-v1.0  NaN   \n",
       "4214  Vd80vnygXHQzsQDyFcHULmtR+MiEBiP1whqrpFt07dY=  mainnet-v1.0  NaN   \n",
       "4215  zJhxTf1yljlDzm/Fpz5M7rTwL1VvEG6ykTffLQy5L5U=  mainnet-v1.0  NaN   \n",
       "4216  1xMetAuMM/4BlRKyjnko1KyWvjHcij3p8BvrEpTniwc=  mainnet-v1.0  NaN   \n",
       "\n",
       "     asset-transfer-transaction.close-to signature.multisig.subsignature  \\\n",
       "0                                    NaN                             NaN   \n",
       "1                                    NaN                             NaN   \n",
       "2                                    NaN                             NaN   \n",
       "3                                    NaN                             NaN   \n",
       "4                                    NaN                             NaN   \n",
       "...                                  ...                             ...   \n",
       "4212                                 NaN                             NaN   \n",
       "4213                                 NaN                             NaN   \n",
       "4214                                 NaN                             NaN   \n",
       "4215                                 NaN                             NaN   \n",
       "4216                                 NaN                             NaN   \n",
       "\n",
       "      signature.multisig.threshold  signature.multisig.version  \n",
       "0                              NaN                         NaN  \n",
       "1                              NaN                         NaN  \n",
       "2                              NaN                         NaN  \n",
       "3                              NaN                         NaN  \n",
       "4                              NaN                         NaN  \n",
       "...                            ...                         ...  \n",
       "4212                           NaN                         NaN  \n",
       "4213                           NaN                         NaN  \n",
       "4214                           NaN                         NaN  \n",
       "4215                           NaN                         NaN  \n",
       "4216                           NaN                         NaN  \n",
       "\n",
       "[66855 rows x 32 columns]"
      ]
     },
     "execution_count": 29,
     "metadata": {},
     "output_type": "execute_result"
    }
   ],
   "source": [
    "json_dir = os.getcwd() +'/data'\n",
    "\n",
    "json_pattern = os.path.join(json_dir, '*.json')\n",
    "file_list = glob.glob(json_pattern)\n",
    "dfs = []\n",
    "\n",
    "for file in file_list:\n",
    "    with open(file) as f:\n",
    "        json_loads = json.loads(f.read())\n",
    "        json_data = pd.json_normalize(json_loads)\n",
    "    dfs.append(json_data)\n",
    "\n",
    "df_USDC = pd.concat(dfs)\n",
    "\n",
    "df_USDC"
   ]
  },
  {
   "cell_type": "code",
   "execution_count": 11,
   "id": "8258eb20",
   "metadata": {},
   "outputs": [
    {
     "name": "stdout",
     "output_type": "stream",
     "text": [
      "<class 'pandas.core.frame.DataFrame'>\n",
      "Int64Index: 66855 entries, 0 to 4216\n",
      "Data columns (total 32 columns):\n",
      " #   Column                                              Non-Null Count  Dtype  \n",
      "---  ------                                              --------------  -----  \n",
      " 0   close-rewards                                       66855 non-null  int64  \n",
      " 1   closing-amount                                      66855 non-null  int64  \n",
      " 2   confirmed-round                                     66855 non-null  int64  \n",
      " 3   fee                                                 66855 non-null  int64  \n",
      " 4   first-valid                                         66855 non-null  int64  \n",
      " 5   genesis-hash                                        66855 non-null  object \n",
      " 6   id                                                  66855 non-null  object \n",
      " 7   intra-round-offset                                  66855 non-null  int64  \n",
      " 8   last-valid                                          66855 non-null  int64  \n",
      " 9   lease                                               46090 non-null  object \n",
      " 10  receiver-rewards                                    66855 non-null  int64  \n",
      " 11  round-time                                          66855 non-null  int64  \n",
      " 12  sender                                              66855 non-null  object \n",
      " 13  sender-rewards                                      66855 non-null  int64  \n",
      " 14  tx-type                                             66855 non-null  object \n",
      " 15  asset-transfer-transaction.amount                   66855 non-null  int64  \n",
      " 16  asset-transfer-transaction.asset-id                 66855 non-null  int64  \n",
      " 17  asset-transfer-transaction.close-amount             66855 non-null  int64  \n",
      " 18  asset-transfer-transaction.receiver                 66855 non-null  object \n",
      " 19  signature.logicsig.args                             15848 non-null  object \n",
      " 20  signature.logicsig.logic                            15848 non-null  object \n",
      " 21  signature.logicsig.multisig-signature.subsignature  8922 non-null   object \n",
      " 22  signature.logicsig.multisig-signature.threshold     8922 non-null   float64\n",
      " 23  signature.logicsig.multisig-signature.version       8922 non-null   float64\n",
      " 24  signature.sig                                       50935 non-null  object \n",
      " 25  group                                               12490 non-null  object \n",
      " 26  genesis-id                                          18765 non-null  object \n",
      " 27  note                                                724 non-null    object \n",
      " 28  asset-transfer-transaction.close-to                 2 non-null      object \n",
      " 29  signature.multisig.subsignature                     72 non-null     object \n",
      " 30  signature.multisig.threshold                        72 non-null     float64\n",
      " 31  signature.multisig.version                          72 non-null     float64\n",
      "dtypes: float64(4), int64(13), object(15)\n",
      "memory usage: 16.8+ MB\n"
     ]
    }
   ],
   "source": [
    "df_USDC.info()"
   ]
  },
  {
   "cell_type": "code",
   "execution_count": 12,
   "id": "3ab24553",
   "metadata": {},
   "outputs": [
    {
     "data": {
      "text/html": [
       "<div>\n",
       "<style scoped>\n",
       "    .dataframe tbody tr th:only-of-type {\n",
       "        vertical-align: middle;\n",
       "    }\n",
       "\n",
       "    .dataframe tbody tr th {\n",
       "        vertical-align: top;\n",
       "    }\n",
       "\n",
       "    .dataframe thead th {\n",
       "        text-align: right;\n",
       "    }\n",
       "</style>\n",
       "<table border=\"1\" class=\"dataframe\">\n",
       "  <thead>\n",
       "    <tr style=\"text-align: right;\">\n",
       "      <th></th>\n",
       "      <th>close-rewards</th>\n",
       "      <th>closing-amount</th>\n",
       "      <th>confirmed-round</th>\n",
       "      <th>fee</th>\n",
       "      <th>first-valid</th>\n",
       "      <th>intra-round-offset</th>\n",
       "      <th>last-valid</th>\n",
       "      <th>receiver-rewards</th>\n",
       "      <th>round-time</th>\n",
       "      <th>sender-rewards</th>\n",
       "      <th>asset-transfer-transaction.amount</th>\n",
       "      <th>asset-transfer-transaction.asset-id</th>\n",
       "      <th>asset-transfer-transaction.close-amount</th>\n",
       "      <th>signature.logicsig.multisig-signature.threshold</th>\n",
       "      <th>signature.logicsig.multisig-signature.version</th>\n",
       "      <th>signature.multisig.threshold</th>\n",
       "      <th>signature.multisig.version</th>\n",
       "    </tr>\n",
       "  </thead>\n",
       "  <tbody>\n",
       "    <tr>\n",
       "      <th>count</th>\n",
       "      <td>66855.0</td>\n",
       "      <td>66855.0</td>\n",
       "      <td>6.685500e+04</td>\n",
       "      <td>66855.000000</td>\n",
       "      <td>6.685500e+04</td>\n",
       "      <td>66855.000000</td>\n",
       "      <td>6.685500e+04</td>\n",
       "      <td>66855.0</td>\n",
       "      <td>6.685500e+04</td>\n",
       "      <td>6.685500e+04</td>\n",
       "      <td>6.685500e+04</td>\n",
       "      <td>66855.0</td>\n",
       "      <td>66855.0</td>\n",
       "      <td>8922.0</td>\n",
       "      <td>8922.0</td>\n",
       "      <td>72.000000</td>\n",
       "      <td>72.0</td>\n",
       "    </tr>\n",
       "    <tr>\n",
       "      <th>mean</th>\n",
       "      <td>0.0</td>\n",
       "      <td>0.0</td>\n",
       "      <td>1.448745e+07</td>\n",
       "      <td>1128.017186</td>\n",
       "      <td>1.448745e+07</td>\n",
       "      <td>25.285020</td>\n",
       "      <td>1.448845e+07</td>\n",
       "      <td>0.0</td>\n",
       "      <td>1.623993e+09</td>\n",
       "      <td>3.112819e+06</td>\n",
       "      <td>1.119281e+11</td>\n",
       "      <td>31566704.0</td>\n",
       "      <td>0.0</td>\n",
       "      <td>2.0</td>\n",
       "      <td>1.0</td>\n",
       "      <td>2.527778</td>\n",
       "      <td>1.0</td>\n",
       "    </tr>\n",
       "    <tr>\n",
       "      <th>std</th>\n",
       "      <td>0.0</td>\n",
       "      <td>0.0</td>\n",
       "      <td>1.721471e+06</td>\n",
       "      <td>5559.441123</td>\n",
       "      <td>1.721471e+06</td>\n",
       "      <td>32.240918</td>\n",
       "      <td>1.721471e+06</td>\n",
       "      <td>0.0</td>\n",
       "      <td>7.567248e+06</td>\n",
       "      <td>2.645707e+08</td>\n",
       "      <td>9.036957e+11</td>\n",
       "      <td>0.0</td>\n",
       "      <td>0.0</td>\n",
       "      <td>0.0</td>\n",
       "      <td>0.0</td>\n",
       "      <td>0.502731</td>\n",
       "      <td>0.0</td>\n",
       "    </tr>\n",
       "    <tr>\n",
       "      <th>min</th>\n",
       "      <td>0.0</td>\n",
       "      <td>0.0</td>\n",
       "      <td>1.161112e+07</td>\n",
       "      <td>1000.000000</td>\n",
       "      <td>1.161112e+07</td>\n",
       "      <td>0.000000</td>\n",
       "      <td>1.161212e+07</td>\n",
       "      <td>0.0</td>\n",
       "      <td>1.611337e+09</td>\n",
       "      <td>0.000000e+00</td>\n",
       "      <td>2.000000e+00</td>\n",
       "      <td>31566704.0</td>\n",
       "      <td>0.0</td>\n",
       "      <td>2.0</td>\n",
       "      <td>1.0</td>\n",
       "      <td>2.000000</td>\n",
       "      <td>1.0</td>\n",
       "    </tr>\n",
       "    <tr>\n",
       "      <th>25%</th>\n",
       "      <td>0.0</td>\n",
       "      <td>0.0</td>\n",
       "      <td>1.296338e+07</td>\n",
       "      <td>1000.000000</td>\n",
       "      <td>1.296338e+07</td>\n",
       "      <td>10.000000</td>\n",
       "      <td>1.296438e+07</td>\n",
       "      <td>0.0</td>\n",
       "      <td>1.617285e+09</td>\n",
       "      <td>0.000000e+00</td>\n",
       "      <td>1.648000e+07</td>\n",
       "      <td>31566704.0</td>\n",
       "      <td>0.0</td>\n",
       "      <td>2.0</td>\n",
       "      <td>1.0</td>\n",
       "      <td>2.000000</td>\n",
       "      <td>1.0</td>\n",
       "    </tr>\n",
       "    <tr>\n",
       "      <th>50%</th>\n",
       "      <td>0.0</td>\n",
       "      <td>0.0</td>\n",
       "      <td>1.448360e+07</td>\n",
       "      <td>1000.000000</td>\n",
       "      <td>1.448360e+07</td>\n",
       "      <td>20.000000</td>\n",
       "      <td>1.448460e+07</td>\n",
       "      <td>0.0</td>\n",
       "      <td>1.623989e+09</td>\n",
       "      <td>0.000000e+00</td>\n",
       "      <td>3.716100e+08</td>\n",
       "      <td>31566704.0</td>\n",
       "      <td>0.0</td>\n",
       "      <td>2.0</td>\n",
       "      <td>1.0</td>\n",
       "      <td>3.000000</td>\n",
       "      <td>1.0</td>\n",
       "    </tr>\n",
       "    <tr>\n",
       "      <th>75%</th>\n",
       "      <td>0.0</td>\n",
       "      <td>0.0</td>\n",
       "      <td>1.624680e+07</td>\n",
       "      <td>1000.000000</td>\n",
       "      <td>1.624680e+07</td>\n",
       "      <td>34.000000</td>\n",
       "      <td>1.624780e+07</td>\n",
       "      <td>0.0</td>\n",
       "      <td>1.631729e+09</td>\n",
       "      <td>3.036000e+03</td>\n",
       "      <td>7.249085e+09</td>\n",
       "      <td>31566704.0</td>\n",
       "      <td>0.0</td>\n",
       "      <td>2.0</td>\n",
       "      <td>1.0</td>\n",
       "      <td>3.000000</td>\n",
       "      <td>1.0</td>\n",
       "    </tr>\n",
       "    <tr>\n",
       "      <th>max</th>\n",
       "      <td>0.0</td>\n",
       "      <td>0.0</td>\n",
       "      <td>1.671100e+07</td>\n",
       "      <td>261000.000000</td>\n",
       "      <td>1.671099e+07</td>\n",
       "      <td>2353.000000</td>\n",
       "      <td>1.671199e+07</td>\n",
       "      <td>0.0</td>\n",
       "      <td>1.633758e+09</td>\n",
       "      <td>3.691126e+10</td>\n",
       "      <td>9.700000e+13</td>\n",
       "      <td>31566704.0</td>\n",
       "      <td>0.0</td>\n",
       "      <td>2.0</td>\n",
       "      <td>1.0</td>\n",
       "      <td>3.000000</td>\n",
       "      <td>1.0</td>\n",
       "    </tr>\n",
       "  </tbody>\n",
       "</table>\n",
       "</div>"
      ],
      "text/plain": [
       "       close-rewards  closing-amount  confirmed-round            fee  \\\n",
       "count        66855.0         66855.0     6.685500e+04   66855.000000   \n",
       "mean             0.0             0.0     1.448745e+07    1128.017186   \n",
       "std              0.0             0.0     1.721471e+06    5559.441123   \n",
       "min              0.0             0.0     1.161112e+07    1000.000000   \n",
       "25%              0.0             0.0     1.296338e+07    1000.000000   \n",
       "50%              0.0             0.0     1.448360e+07    1000.000000   \n",
       "75%              0.0             0.0     1.624680e+07    1000.000000   \n",
       "max              0.0             0.0     1.671100e+07  261000.000000   \n",
       "\n",
       "        first-valid  intra-round-offset    last-valid  receiver-rewards  \\\n",
       "count  6.685500e+04        66855.000000  6.685500e+04           66855.0   \n",
       "mean   1.448745e+07           25.285020  1.448845e+07               0.0   \n",
       "std    1.721471e+06           32.240918  1.721471e+06               0.0   \n",
       "min    1.161112e+07            0.000000  1.161212e+07               0.0   \n",
       "25%    1.296338e+07           10.000000  1.296438e+07               0.0   \n",
       "50%    1.448360e+07           20.000000  1.448460e+07               0.0   \n",
       "75%    1.624680e+07           34.000000  1.624780e+07               0.0   \n",
       "max    1.671099e+07         2353.000000  1.671199e+07               0.0   \n",
       "\n",
       "         round-time  sender-rewards  asset-transfer-transaction.amount  \\\n",
       "count  6.685500e+04    6.685500e+04                       6.685500e+04   \n",
       "mean   1.623993e+09    3.112819e+06                       1.119281e+11   \n",
       "std    7.567248e+06    2.645707e+08                       9.036957e+11   \n",
       "min    1.611337e+09    0.000000e+00                       2.000000e+00   \n",
       "25%    1.617285e+09    0.000000e+00                       1.648000e+07   \n",
       "50%    1.623989e+09    0.000000e+00                       3.716100e+08   \n",
       "75%    1.631729e+09    3.036000e+03                       7.249085e+09   \n",
       "max    1.633758e+09    3.691126e+10                       9.700000e+13   \n",
       "\n",
       "       asset-transfer-transaction.asset-id  \\\n",
       "count                              66855.0   \n",
       "mean                            31566704.0   \n",
       "std                                    0.0   \n",
       "min                             31566704.0   \n",
       "25%                             31566704.0   \n",
       "50%                             31566704.0   \n",
       "75%                             31566704.0   \n",
       "max                             31566704.0   \n",
       "\n",
       "       asset-transfer-transaction.close-amount  \\\n",
       "count                                  66855.0   \n",
       "mean                                       0.0   \n",
       "std                                        0.0   \n",
       "min                                        0.0   \n",
       "25%                                        0.0   \n",
       "50%                                        0.0   \n",
       "75%                                        0.0   \n",
       "max                                        0.0   \n",
       "\n",
       "       signature.logicsig.multisig-signature.threshold  \\\n",
       "count                                           8922.0   \n",
       "mean                                               2.0   \n",
       "std                                                0.0   \n",
       "min                                                2.0   \n",
       "25%                                                2.0   \n",
       "50%                                                2.0   \n",
       "75%                                                2.0   \n",
       "max                                                2.0   \n",
       "\n",
       "       signature.logicsig.multisig-signature.version  \\\n",
       "count                                         8922.0   \n",
       "mean                                             1.0   \n",
       "std                                              0.0   \n",
       "min                                              1.0   \n",
       "25%                                              1.0   \n",
       "50%                                              1.0   \n",
       "75%                                              1.0   \n",
       "max                                              1.0   \n",
       "\n",
       "       signature.multisig.threshold  signature.multisig.version  \n",
       "count                     72.000000                        72.0  \n",
       "mean                       2.527778                         1.0  \n",
       "std                        0.502731                         0.0  \n",
       "min                        2.000000                         1.0  \n",
       "25%                        2.000000                         1.0  \n",
       "50%                        3.000000                         1.0  \n",
       "75%                        3.000000                         1.0  \n",
       "max                        3.000000                         1.0  "
      ]
     },
     "execution_count": 12,
     "metadata": {},
     "output_type": "execute_result"
    }
   ],
   "source": [
    "df_USDC.describe()"
   ]
  },
  {
   "cell_type": "markdown",
   "id": "2037dc1c",
   "metadata": {},
   "source": [
    "Despues se agrupan los datos por día y se suma el monto de la transacción de activos, y se genera una gráfica con estos datos."
   ]
  },
  {
   "cell_type": "code",
   "execution_count": 26,
   "id": "75bac642",
   "metadata": {},
   "outputs": [
    {
     "data": {
      "application/vnd.plotly.v1+json": {
       "config": {
        "plotlyServerURL": "https://plot.ly"
       },
       "data": [
        {
         "hovertemplate": "round-time=%{x}<br>volume=%{y}<extra></extra>",
         "legendgroup": "",
         "line": {
          "color": "#636efa",
          "dash": "solid"
         },
         "marker": {
          "symbol": "circle"
         },
         "mode": "lines",
         "name": "",
         "orientation": "v",
         "showlegend": false,
         "type": "scatter",
         "x": [
          "2021-01-22",
          "2021-01-23",
          "2021-01-24",
          "2021-01-25",
          "2021-01-26",
          "2021-01-27",
          "2021-01-28",
          "2021-01-29",
          "2021-01-30",
          "2021-01-31",
          "2021-02-01",
          "2021-02-02",
          "2021-02-03",
          "2021-02-04",
          "2021-02-05",
          "2021-02-06",
          "2021-02-07",
          "2021-02-08",
          "2021-02-09",
          "2021-02-10",
          "2021-02-11",
          "2021-02-12",
          "2021-02-13",
          "2021-02-14",
          "2021-02-15",
          "2021-02-16",
          "2021-02-17",
          "2021-02-18",
          "2021-02-19",
          "2021-02-20",
          "2021-02-21",
          "2021-02-22",
          "2021-02-23",
          "2021-02-24",
          "2021-02-25",
          "2021-02-26",
          "2021-02-27",
          "2021-02-28",
          "2021-03-01",
          "2021-03-02",
          "2021-03-03",
          "2021-03-04",
          "2021-03-05",
          "2021-03-06",
          "2021-03-07",
          "2021-03-08",
          "2021-03-09",
          "2021-03-10",
          "2021-03-11",
          "2021-03-12",
          "2021-03-13",
          "2021-03-14",
          "2021-03-15",
          "2021-03-16",
          "2021-03-17",
          "2021-03-18",
          "2021-03-19",
          "2021-03-20",
          "2021-03-21",
          "2021-03-22",
          "2021-03-23",
          "2021-03-24",
          "2021-03-25",
          "2021-03-26",
          "2021-03-27",
          "2021-03-28",
          "2021-03-29",
          "2021-03-30",
          "2021-03-31",
          "2021-04-01",
          "2021-04-02",
          "2021-04-03",
          "2021-04-04",
          "2021-04-05",
          "2021-04-06",
          "2021-04-07",
          "2021-04-08",
          "2021-04-09",
          "2021-04-10",
          "2021-04-11",
          "2021-04-12",
          "2021-04-13",
          "2021-04-14",
          "2021-04-15",
          "2021-04-16",
          "2021-04-17",
          "2021-04-18",
          "2021-04-19",
          "2021-04-20",
          "2021-04-21",
          "2021-04-22",
          "2021-04-23",
          "2021-04-24",
          "2021-04-25",
          "2021-04-26",
          "2021-04-27",
          "2021-04-28",
          "2021-04-29",
          "2021-04-30",
          "2021-05-01",
          "2021-05-02",
          "2021-05-03",
          "2021-05-04",
          "2021-05-05",
          "2021-05-06",
          "2021-05-07",
          "2021-05-08",
          "2021-05-09",
          "2021-05-10",
          "2021-05-11",
          "2021-05-12",
          "2021-05-13",
          "2021-05-14",
          "2021-05-15",
          "2021-05-16",
          "2021-05-17",
          "2021-05-18",
          "2021-05-19",
          "2021-05-20",
          "2021-05-21",
          "2021-05-22",
          "2021-05-23",
          "2021-05-24",
          "2021-05-25",
          "2021-05-26",
          "2021-05-27",
          "2021-05-28",
          "2021-05-29",
          "2021-05-30",
          "2021-05-31",
          "2021-06-01",
          "2021-06-02",
          "2021-06-03",
          "2021-06-04",
          "2021-06-05",
          "2021-06-06",
          "2021-06-07",
          "2021-06-08",
          "2021-06-09",
          "2021-06-10",
          "2021-06-11",
          "2021-06-12",
          "2021-06-13",
          "2021-06-14",
          "2021-06-15",
          "2021-06-16",
          "2021-06-17",
          "2021-06-18",
          "2021-06-19",
          "2021-06-20",
          "2021-06-21",
          "2021-06-22",
          "2021-06-23",
          "2021-06-24",
          "2021-06-25",
          "2021-06-26",
          "2021-06-27",
          "2021-06-28",
          "2021-06-29",
          "2021-06-30",
          "2021-07-01",
          "2021-07-02",
          "2021-07-03",
          "2021-07-04",
          "2021-07-05",
          "2021-07-06",
          "2021-07-07",
          "2021-07-08",
          "2021-07-09",
          "2021-07-10",
          "2021-07-11",
          "2021-07-12",
          "2021-07-13",
          "2021-07-14",
          "2021-07-15",
          "2021-07-16",
          "2021-07-17",
          "2021-07-18",
          "2021-07-19",
          "2021-07-20",
          "2021-07-21",
          "2021-07-22",
          "2021-07-23",
          "2021-07-24",
          "2021-07-25",
          "2021-07-26",
          "2021-07-27",
          "2021-07-28",
          "2021-07-29",
          "2021-07-30",
          "2021-07-31",
          "2021-08-01",
          "2021-08-02",
          "2021-08-03",
          "2021-08-04",
          "2021-08-05",
          "2021-08-06",
          "2021-08-07",
          "2021-08-08",
          "2021-08-09",
          "2021-08-10",
          "2021-08-11",
          "2021-08-12",
          "2021-08-13",
          "2021-08-14",
          "2021-08-15",
          "2021-08-16",
          "2021-08-17",
          "2021-08-18",
          "2021-08-19",
          "2021-08-20",
          "2021-08-21",
          "2021-08-22",
          "2021-08-23",
          "2021-08-24",
          "2021-08-25",
          "2021-08-26",
          "2021-08-27",
          "2021-08-28",
          "2021-08-29",
          "2021-08-30",
          "2021-08-31",
          "2021-09-01",
          "2021-09-02",
          "2021-09-03",
          "2021-09-04",
          "2021-09-05",
          "2021-09-06",
          "2021-09-07",
          "2021-09-08",
          "2021-09-09",
          "2021-09-10",
          "2021-09-11",
          "2021-09-12",
          "2021-09-13",
          "2021-09-14",
          "2021-09-15",
          "2021-09-16",
          "2021-09-17",
          "2021-09-18",
          "2021-09-19",
          "2021-09-20",
          "2021-09-21",
          "2021-09-22",
          "2021-09-23",
          "2021-09-24",
          "2021-09-25",
          "2021-09-26",
          "2021-09-27",
          "2021-09-28",
          "2021-09-29",
          "2021-09-30",
          "2021-10-01",
          "2021-10-02",
          "2021-10-03",
          "2021-10-04",
          "2021-10-05",
          "2021-10-06",
          "2021-10-07",
          "2021-10-08",
          "2021-10-09"
         ],
         "xaxis": "x",
         "y": [
          19274045.959999997,
          20364109.55,
          1661494.34,
          13488398.93,
          9178004.73,
          9007836.7,
          20047076,
          45832745.85,
          1049019.53,
          4222355.081,
          14616105.450000001,
          14170059.13,
          18249433.74,
          47173032.699999996,
          31630474.316,
          16141319.3621,
          20859365.85,
          13456033.06,
          10063333.14,
          50639476.673443004,
          44197976.115171,
          49268699.389122,
          15742531.224055,
          4079601.155604,
          23154402.549204,
          15003303.099012,
          35458372.131421,
          43303667.785388,
          41713008.289942004,
          20370949.662452,
          16900522.409846,
          54226984.812929,
          16514074.146476,
          18700819.386925,
          21389288.32,
          28403669.059381,
          6437765.578462,
          11984401.741088001,
          20395669.6115,
          8934521.069412,
          18955166.27,
          19399930.691978,
          18563866.355825998,
          8311534.774996,
          4961886.614856,
          23239435.967151,
          58046818.07092401,
          29873718.213491,
          16077675.657072,
          17623938.284454,
          96980050.715332,
          1995862.307706,
          24227595.396856,
          30220089.92006,
          25166635.810888,
          24750856.701279998,
          33867355.686616,
          20110286.701824002,
          8166067.410571999,
          15618548.828,
          22382295.628000002,
          19725515.347,
          23239345.306962002,
          12815151.591272,
          8462723.793772,
          4239647.66849,
          26179729.833164,
          21078578.781,
          29918356.71,
          28988298.204582,
          6942731.509173,
          21210157.7428,
          3472061.8200000003,
          45409514.7734,
          20306277.17,
          54434083.054,
          27602265.889027,
          44184050.187058,
          10209535.788,
          16139173.91,
          27470571.862274,
          39959968.55,
          47112141.26444,
          61528365.748766005,
          62208014.631217,
          12332373.350498,
          32409266.991090998,
          47434483.07549,
          75163671.561471,
          32545314.392717,
          46501221.984767,
          61966116.595979,
          14617171.787258,
          13503485.574632,
          26917300.172079,
          35647724.922841996,
          33394617.052,
          35223295.881572,
          38871404.405002,
          43965976.034258,
          25890820.198592,
          76719111.673055,
          53477394.169092,
          34652184.667946,
          44245152.173098,
          38679798.684044,
          77525026.065164,
          19443019.474903997,
          39972490.205122,
          60644432.68458,
          45478920.373389,
          43695375.888026,
          53417722.953255,
          33683464.085347,
          15728060.236964,
          64842012.98389,
          34753325.639435,
          44386580.469004,
          59959966.671957,
          92681671.376674,
          34546041.433507,
          38827473.272103,
          97246309.068744,
          37641786.258747,
          41701883.124315,
          31187897.037762,
          36006871.957795,
          18100244.945013,
          21568727.642896,
          11012503.493244,
          32910057.17766,
          51278058.359342,
          44254553.265186995,
          54127650.08788101,
          164690133.663733,
          11173807.213705,
          69499704.154525,
          39756127.124514,
          28483353.074517,
          17036538.635709,
          21945259.181319002,
          6167367.43315,
          7598865.81013,
          42236783.059,
          67332946.391244,
          25296735.35103,
          20829786.439333,
          57970996.565365,
          43428427.611465,
          5371865.52398,
          70059420.747801,
          93178896.480987,
          60729283.361292,
          20486084.524831,
          75557252.082423,
          11227797.167574,
          6997854.847867,
          20463650.913437,
          10457559.089924,
          48933896.371074,
          13154622.719999,
          16999739.615155,
          136202.823182,
          6506579.831352,
          4926366.129923,
          10436693.130858,
          7937419.496433,
          9777622.065121999,
          5588980.044688,
          931417.636713,
          415508.843744,
          6800904.332498,
          10113634.301256,
          42911323.195489004,
          44551333.863208,
          12112040.914107,
          621804.309706,
          374230.000852,
          52634896.362742,
          4902990.914399,
          16308009.61219,
          2801509.618469,
          12412940.3492,
          601779.536664,
          38949.2227,
          16020012.246189,
          60200879.112056,
          23639578.999649,
          76830503.43321401,
          20161801.832747,
          1473713.710674,
          3826817.853898,
          6378479.376037,
          26005828.040602,
          16849577.477386,
          22101066.796218,
          16963742.98878,
          2907160.670042,
          4833177.234589,
          6943578.967158,
          23712833.983846,
          16107041.39343,
          11546498.075174,
          18728144.546210002,
          1274475.1613190002,
          576606.763473,
          20990322.084948,
          72708435.137856,
          4769652.784996,
          11644047.44561,
          24564118.330915,
          41214478.553209,
          2558540.9092139998,
          63268186.258166,
          8542198.748869,
          23427206.349493,
          24620098.998246,
          21977081.474295,
          2205710.669896,
          3674403.800286,
          20366013.799901,
          27786630.256464,
          19845376.980407,
          19932643.013978,
          23791329.750943,
          494980.374552,
          926118.700271,
          11702608.077844,
          27280628.198898,
          21135941.058215,
          51107745.119813,
          38069069.113738,
          1540022.932492,
          2335028.549658,
          23065951.419401,
          99616816.16808599,
          75444015.290156,
          41053497.134493,
          25516231.222734,
          1270382.917904,
          2149599.378586,
          12589767.652648,
          262744826.00473002,
          31559239.145879,
          103390755.622842,
          69910430.509284,
          731031.795496,
          1221032.08183,
          14388646.53991,
          73140230.989572,
          25629218.409143,
          16316636.265832,
          12884862.147935,
          2752447.9275559997,
          2219657.478688,
          14339452.831157,
          69821346.976647,
          28395283.3369,
          38890149.629834,
          13056525.673034,
          927404.292431
         ],
         "yaxis": "y"
        }
       ],
       "layout": {
        "legend": {
         "tracegroupgap": 0
        },
        "margin": {
         "t": 60
        },
        "template": {
         "data": {
          "bar": [
           {
            "error_x": {
             "color": "#f2f5fa"
            },
            "error_y": {
             "color": "#f2f5fa"
            },
            "marker": {
             "line": {
              "color": "rgb(17,17,17)",
              "width": 0.5
             },
             "pattern": {
              "fillmode": "overlay",
              "size": 10,
              "solidity": 0.2
             }
            },
            "type": "bar"
           }
          ],
          "barpolar": [
           {
            "marker": {
             "line": {
              "color": "rgb(17,17,17)",
              "width": 0.5
             },
             "pattern": {
              "fillmode": "overlay",
              "size": 10,
              "solidity": 0.2
             }
            },
            "type": "barpolar"
           }
          ],
          "carpet": [
           {
            "aaxis": {
             "endlinecolor": "#A2B1C6",
             "gridcolor": "#506784",
             "linecolor": "#506784",
             "minorgridcolor": "#506784",
             "startlinecolor": "#A2B1C6"
            },
            "baxis": {
             "endlinecolor": "#A2B1C6",
             "gridcolor": "#506784",
             "linecolor": "#506784",
             "minorgridcolor": "#506784",
             "startlinecolor": "#A2B1C6"
            },
            "type": "carpet"
           }
          ],
          "choropleth": [
           {
            "colorbar": {
             "outlinewidth": 0,
             "ticks": ""
            },
            "type": "choropleth"
           }
          ],
          "contour": [
           {
            "colorbar": {
             "outlinewidth": 0,
             "ticks": ""
            },
            "colorscale": [
             [
              0,
              "#0d0887"
             ],
             [
              0.1111111111111111,
              "#46039f"
             ],
             [
              0.2222222222222222,
              "#7201a8"
             ],
             [
              0.3333333333333333,
              "#9c179e"
             ],
             [
              0.4444444444444444,
              "#bd3786"
             ],
             [
              0.5555555555555556,
              "#d8576b"
             ],
             [
              0.6666666666666666,
              "#ed7953"
             ],
             [
              0.7777777777777778,
              "#fb9f3a"
             ],
             [
              0.8888888888888888,
              "#fdca26"
             ],
             [
              1,
              "#f0f921"
             ]
            ],
            "type": "contour"
           }
          ],
          "contourcarpet": [
           {
            "colorbar": {
             "outlinewidth": 0,
             "ticks": ""
            },
            "type": "contourcarpet"
           }
          ],
          "heatmap": [
           {
            "colorbar": {
             "outlinewidth": 0,
             "ticks": ""
            },
            "colorscale": [
             [
              0,
              "#0d0887"
             ],
             [
              0.1111111111111111,
              "#46039f"
             ],
             [
              0.2222222222222222,
              "#7201a8"
             ],
             [
              0.3333333333333333,
              "#9c179e"
             ],
             [
              0.4444444444444444,
              "#bd3786"
             ],
             [
              0.5555555555555556,
              "#d8576b"
             ],
             [
              0.6666666666666666,
              "#ed7953"
             ],
             [
              0.7777777777777778,
              "#fb9f3a"
             ],
             [
              0.8888888888888888,
              "#fdca26"
             ],
             [
              1,
              "#f0f921"
             ]
            ],
            "type": "heatmap"
           }
          ],
          "heatmapgl": [
           {
            "colorbar": {
             "outlinewidth": 0,
             "ticks": ""
            },
            "colorscale": [
             [
              0,
              "#0d0887"
             ],
             [
              0.1111111111111111,
              "#46039f"
             ],
             [
              0.2222222222222222,
              "#7201a8"
             ],
             [
              0.3333333333333333,
              "#9c179e"
             ],
             [
              0.4444444444444444,
              "#bd3786"
             ],
             [
              0.5555555555555556,
              "#d8576b"
             ],
             [
              0.6666666666666666,
              "#ed7953"
             ],
             [
              0.7777777777777778,
              "#fb9f3a"
             ],
             [
              0.8888888888888888,
              "#fdca26"
             ],
             [
              1,
              "#f0f921"
             ]
            ],
            "type": "heatmapgl"
           }
          ],
          "histogram": [
           {
            "marker": {
             "pattern": {
              "fillmode": "overlay",
              "size": 10,
              "solidity": 0.2
             }
            },
            "type": "histogram"
           }
          ],
          "histogram2d": [
           {
            "colorbar": {
             "outlinewidth": 0,
             "ticks": ""
            },
            "colorscale": [
             [
              0,
              "#0d0887"
             ],
             [
              0.1111111111111111,
              "#46039f"
             ],
             [
              0.2222222222222222,
              "#7201a8"
             ],
             [
              0.3333333333333333,
              "#9c179e"
             ],
             [
              0.4444444444444444,
              "#bd3786"
             ],
             [
              0.5555555555555556,
              "#d8576b"
             ],
             [
              0.6666666666666666,
              "#ed7953"
             ],
             [
              0.7777777777777778,
              "#fb9f3a"
             ],
             [
              0.8888888888888888,
              "#fdca26"
             ],
             [
              1,
              "#f0f921"
             ]
            ],
            "type": "histogram2d"
           }
          ],
          "histogram2dcontour": [
           {
            "colorbar": {
             "outlinewidth": 0,
             "ticks": ""
            },
            "colorscale": [
             [
              0,
              "#0d0887"
             ],
             [
              0.1111111111111111,
              "#46039f"
             ],
             [
              0.2222222222222222,
              "#7201a8"
             ],
             [
              0.3333333333333333,
              "#9c179e"
             ],
             [
              0.4444444444444444,
              "#bd3786"
             ],
             [
              0.5555555555555556,
              "#d8576b"
             ],
             [
              0.6666666666666666,
              "#ed7953"
             ],
             [
              0.7777777777777778,
              "#fb9f3a"
             ],
             [
              0.8888888888888888,
              "#fdca26"
             ],
             [
              1,
              "#f0f921"
             ]
            ],
            "type": "histogram2dcontour"
           }
          ],
          "mesh3d": [
           {
            "colorbar": {
             "outlinewidth": 0,
             "ticks": ""
            },
            "type": "mesh3d"
           }
          ],
          "parcoords": [
           {
            "line": {
             "colorbar": {
              "outlinewidth": 0,
              "ticks": ""
             }
            },
            "type": "parcoords"
           }
          ],
          "pie": [
           {
            "automargin": true,
            "type": "pie"
           }
          ],
          "scatter": [
           {
            "marker": {
             "line": {
              "color": "#283442"
             }
            },
            "type": "scatter"
           }
          ],
          "scatter3d": [
           {
            "line": {
             "colorbar": {
              "outlinewidth": 0,
              "ticks": ""
             }
            },
            "marker": {
             "colorbar": {
              "outlinewidth": 0,
              "ticks": ""
             }
            },
            "type": "scatter3d"
           }
          ],
          "scattercarpet": [
           {
            "marker": {
             "colorbar": {
              "outlinewidth": 0,
              "ticks": ""
             }
            },
            "type": "scattercarpet"
           }
          ],
          "scattergeo": [
           {
            "marker": {
             "colorbar": {
              "outlinewidth": 0,
              "ticks": ""
             }
            },
            "type": "scattergeo"
           }
          ],
          "scattergl": [
           {
            "marker": {
             "line": {
              "color": "#283442"
             }
            },
            "type": "scattergl"
           }
          ],
          "scattermapbox": [
           {
            "marker": {
             "colorbar": {
              "outlinewidth": 0,
              "ticks": ""
             }
            },
            "type": "scattermapbox"
           }
          ],
          "scatterpolar": [
           {
            "marker": {
             "colorbar": {
              "outlinewidth": 0,
              "ticks": ""
             }
            },
            "type": "scatterpolar"
           }
          ],
          "scatterpolargl": [
           {
            "marker": {
             "colorbar": {
              "outlinewidth": 0,
              "ticks": ""
             }
            },
            "type": "scatterpolargl"
           }
          ],
          "scatterternary": [
           {
            "marker": {
             "colorbar": {
              "outlinewidth": 0,
              "ticks": ""
             }
            },
            "type": "scatterternary"
           }
          ],
          "surface": [
           {
            "colorbar": {
             "outlinewidth": 0,
             "ticks": ""
            },
            "colorscale": [
             [
              0,
              "#0d0887"
             ],
             [
              0.1111111111111111,
              "#46039f"
             ],
             [
              0.2222222222222222,
              "#7201a8"
             ],
             [
              0.3333333333333333,
              "#9c179e"
             ],
             [
              0.4444444444444444,
              "#bd3786"
             ],
             [
              0.5555555555555556,
              "#d8576b"
             ],
             [
              0.6666666666666666,
              "#ed7953"
             ],
             [
              0.7777777777777778,
              "#fb9f3a"
             ],
             [
              0.8888888888888888,
              "#fdca26"
             ],
             [
              1,
              "#f0f921"
             ]
            ],
            "type": "surface"
           }
          ],
          "table": [
           {
            "cells": {
             "fill": {
              "color": "#506784"
             },
             "line": {
              "color": "rgb(17,17,17)"
             }
            },
            "header": {
             "fill": {
              "color": "#2a3f5f"
             },
             "line": {
              "color": "rgb(17,17,17)"
             }
            },
            "type": "table"
           }
          ]
         },
         "layout": {
          "annotationdefaults": {
           "arrowcolor": "#f2f5fa",
           "arrowhead": 0,
           "arrowwidth": 1
          },
          "autotypenumbers": "strict",
          "coloraxis": {
           "colorbar": {
            "outlinewidth": 0,
            "ticks": ""
           }
          },
          "colorscale": {
           "diverging": [
            [
             0,
             "#8e0152"
            ],
            [
             0.1,
             "#c51b7d"
            ],
            [
             0.2,
             "#de77ae"
            ],
            [
             0.3,
             "#f1b6da"
            ],
            [
             0.4,
             "#fde0ef"
            ],
            [
             0.5,
             "#f7f7f7"
            ],
            [
             0.6,
             "#e6f5d0"
            ],
            [
             0.7,
             "#b8e186"
            ],
            [
             0.8,
             "#7fbc41"
            ],
            [
             0.9,
             "#4d9221"
            ],
            [
             1,
             "#276419"
            ]
           ],
           "sequential": [
            [
             0,
             "#0d0887"
            ],
            [
             0.1111111111111111,
             "#46039f"
            ],
            [
             0.2222222222222222,
             "#7201a8"
            ],
            [
             0.3333333333333333,
             "#9c179e"
            ],
            [
             0.4444444444444444,
             "#bd3786"
            ],
            [
             0.5555555555555556,
             "#d8576b"
            ],
            [
             0.6666666666666666,
             "#ed7953"
            ],
            [
             0.7777777777777778,
             "#fb9f3a"
            ],
            [
             0.8888888888888888,
             "#fdca26"
            ],
            [
             1,
             "#f0f921"
            ]
           ],
           "sequentialminus": [
            [
             0,
             "#0d0887"
            ],
            [
             0.1111111111111111,
             "#46039f"
            ],
            [
             0.2222222222222222,
             "#7201a8"
            ],
            [
             0.3333333333333333,
             "#9c179e"
            ],
            [
             0.4444444444444444,
             "#bd3786"
            ],
            [
             0.5555555555555556,
             "#d8576b"
            ],
            [
             0.6666666666666666,
             "#ed7953"
            ],
            [
             0.7777777777777778,
             "#fb9f3a"
            ],
            [
             0.8888888888888888,
             "#fdca26"
            ],
            [
             1,
             "#f0f921"
            ]
           ]
          },
          "colorway": [
           "#636efa",
           "#EF553B",
           "#00cc96",
           "#ab63fa",
           "#FFA15A",
           "#19d3f3",
           "#FF6692",
           "#B6E880",
           "#FF97FF",
           "#FECB52"
          ],
          "font": {
           "color": "#f2f5fa"
          },
          "geo": {
           "bgcolor": "rgb(17,17,17)",
           "lakecolor": "rgb(17,17,17)",
           "landcolor": "rgb(17,17,17)",
           "showlakes": true,
           "showland": true,
           "subunitcolor": "#506784"
          },
          "hoverlabel": {
           "align": "left"
          },
          "hovermode": "closest",
          "mapbox": {
           "style": "dark"
          },
          "paper_bgcolor": "rgb(17,17,17)",
          "plot_bgcolor": "rgb(17,17,17)",
          "polar": {
           "angularaxis": {
            "gridcolor": "#506784",
            "linecolor": "#506784",
            "ticks": ""
           },
           "bgcolor": "rgb(17,17,17)",
           "radialaxis": {
            "gridcolor": "#506784",
            "linecolor": "#506784",
            "ticks": ""
           }
          },
          "scene": {
           "xaxis": {
            "backgroundcolor": "rgb(17,17,17)",
            "gridcolor": "#506784",
            "gridwidth": 2,
            "linecolor": "#506784",
            "showbackground": true,
            "ticks": "",
            "zerolinecolor": "#C8D4E3"
           },
           "yaxis": {
            "backgroundcolor": "rgb(17,17,17)",
            "gridcolor": "#506784",
            "gridwidth": 2,
            "linecolor": "#506784",
            "showbackground": true,
            "ticks": "",
            "zerolinecolor": "#C8D4E3"
           },
           "zaxis": {
            "backgroundcolor": "rgb(17,17,17)",
            "gridcolor": "#506784",
            "gridwidth": 2,
            "linecolor": "#506784",
            "showbackground": true,
            "ticks": "",
            "zerolinecolor": "#C8D4E3"
           }
          },
          "shapedefaults": {
           "line": {
            "color": "#f2f5fa"
           }
          },
          "sliderdefaults": {
           "bgcolor": "#C8D4E3",
           "bordercolor": "rgb(17,17,17)",
           "borderwidth": 1,
           "tickwidth": 0
          },
          "ternary": {
           "aaxis": {
            "gridcolor": "#506784",
            "linecolor": "#506784",
            "ticks": ""
           },
           "baxis": {
            "gridcolor": "#506784",
            "linecolor": "#506784",
            "ticks": ""
           },
           "bgcolor": "rgb(17,17,17)",
           "caxis": {
            "gridcolor": "#506784",
            "linecolor": "#506784",
            "ticks": ""
           }
          },
          "title": {
           "x": 0.05
          },
          "updatemenudefaults": {
           "bgcolor": "#506784",
           "borderwidth": 0
          },
          "xaxis": {
           "automargin": true,
           "gridcolor": "#283442",
           "linecolor": "#506784",
           "ticks": "",
           "title": {
            "standoff": 15
           },
           "zerolinecolor": "#283442",
           "zerolinewidth": 2
          },
          "yaxis": {
           "automargin": true,
           "gridcolor": "#283442",
           "linecolor": "#506784",
           "ticks": "",
           "title": {
            "standoff": 15
           },
           "zerolinecolor": "#283442",
           "zerolinewidth": 2
          }
         }
        },
        "xaxis": {
         "anchor": "y",
         "domain": [
          0,
          1
         ],
         "title": {
          "text": "round-time"
         }
        },
        "yaxis": {
         "anchor": "x",
         "domain": [
          0,
          1
         ],
         "title": {
          "text": "volume"
         }
        }
       }
      },
      "text/html": [
       "<div>                            <div id=\"4ae060ae-8d69-43f9-8612-a56a1a576f2b\" class=\"plotly-graph-div\" style=\"height:525px; width:100%;\"></div>            <script type=\"text/javascript\">                require([\"plotly\"], function(Plotly) {                    window.PLOTLYENV=window.PLOTLYENV || {};                                    if (document.getElementById(\"4ae060ae-8d69-43f9-8612-a56a1a576f2b\")) {                    Plotly.newPlot(                        \"4ae060ae-8d69-43f9-8612-a56a1a576f2b\",                        [{\"hovertemplate\":\"round-time=%{x}<br>volume=%{y}<extra></extra>\",\"legendgroup\":\"\",\"line\":{\"color\":\"#636efa\",\"dash\":\"solid\"},\"marker\":{\"symbol\":\"circle\"},\"mode\":\"lines\",\"name\":\"\",\"orientation\":\"v\",\"showlegend\":false,\"x\":[\"2021-01-22\",\"2021-01-23\",\"2021-01-24\",\"2021-01-25\",\"2021-01-26\",\"2021-01-27\",\"2021-01-28\",\"2021-01-29\",\"2021-01-30\",\"2021-01-31\",\"2021-02-01\",\"2021-02-02\",\"2021-02-03\",\"2021-02-04\",\"2021-02-05\",\"2021-02-06\",\"2021-02-07\",\"2021-02-08\",\"2021-02-09\",\"2021-02-10\",\"2021-02-11\",\"2021-02-12\",\"2021-02-13\",\"2021-02-14\",\"2021-02-15\",\"2021-02-16\",\"2021-02-17\",\"2021-02-18\",\"2021-02-19\",\"2021-02-20\",\"2021-02-21\",\"2021-02-22\",\"2021-02-23\",\"2021-02-24\",\"2021-02-25\",\"2021-02-26\",\"2021-02-27\",\"2021-02-28\",\"2021-03-01\",\"2021-03-02\",\"2021-03-03\",\"2021-03-04\",\"2021-03-05\",\"2021-03-06\",\"2021-03-07\",\"2021-03-08\",\"2021-03-09\",\"2021-03-10\",\"2021-03-11\",\"2021-03-12\",\"2021-03-13\",\"2021-03-14\",\"2021-03-15\",\"2021-03-16\",\"2021-03-17\",\"2021-03-18\",\"2021-03-19\",\"2021-03-20\",\"2021-03-21\",\"2021-03-22\",\"2021-03-23\",\"2021-03-24\",\"2021-03-25\",\"2021-03-26\",\"2021-03-27\",\"2021-03-28\",\"2021-03-29\",\"2021-03-30\",\"2021-03-31\",\"2021-04-01\",\"2021-04-02\",\"2021-04-03\",\"2021-04-04\",\"2021-04-05\",\"2021-04-06\",\"2021-04-07\",\"2021-04-08\",\"2021-04-09\",\"2021-04-10\",\"2021-04-11\",\"2021-04-12\",\"2021-04-13\",\"2021-04-14\",\"2021-04-15\",\"2021-04-16\",\"2021-04-17\",\"2021-04-18\",\"2021-04-19\",\"2021-04-20\",\"2021-04-21\",\"2021-04-22\",\"2021-04-23\",\"2021-04-24\",\"2021-04-25\",\"2021-04-26\",\"2021-04-27\",\"2021-04-28\",\"2021-04-29\",\"2021-04-30\",\"2021-05-01\",\"2021-05-02\",\"2021-05-03\",\"2021-05-04\",\"2021-05-05\",\"2021-05-06\",\"2021-05-07\",\"2021-05-08\",\"2021-05-09\",\"2021-05-10\",\"2021-05-11\",\"2021-05-12\",\"2021-05-13\",\"2021-05-14\",\"2021-05-15\",\"2021-05-16\",\"2021-05-17\",\"2021-05-18\",\"2021-05-19\",\"2021-05-20\",\"2021-05-21\",\"2021-05-22\",\"2021-05-23\",\"2021-05-24\",\"2021-05-25\",\"2021-05-26\",\"2021-05-27\",\"2021-05-28\",\"2021-05-29\",\"2021-05-30\",\"2021-05-31\",\"2021-06-01\",\"2021-06-02\",\"2021-06-03\",\"2021-06-04\",\"2021-06-05\",\"2021-06-06\",\"2021-06-07\",\"2021-06-08\",\"2021-06-09\",\"2021-06-10\",\"2021-06-11\",\"2021-06-12\",\"2021-06-13\",\"2021-06-14\",\"2021-06-15\",\"2021-06-16\",\"2021-06-17\",\"2021-06-18\",\"2021-06-19\",\"2021-06-20\",\"2021-06-21\",\"2021-06-22\",\"2021-06-23\",\"2021-06-24\",\"2021-06-25\",\"2021-06-26\",\"2021-06-27\",\"2021-06-28\",\"2021-06-29\",\"2021-06-30\",\"2021-07-01\",\"2021-07-02\",\"2021-07-03\",\"2021-07-04\",\"2021-07-05\",\"2021-07-06\",\"2021-07-07\",\"2021-07-08\",\"2021-07-09\",\"2021-07-10\",\"2021-07-11\",\"2021-07-12\",\"2021-07-13\",\"2021-07-14\",\"2021-07-15\",\"2021-07-16\",\"2021-07-17\",\"2021-07-18\",\"2021-07-19\",\"2021-07-20\",\"2021-07-21\",\"2021-07-22\",\"2021-07-23\",\"2021-07-24\",\"2021-07-25\",\"2021-07-26\",\"2021-07-27\",\"2021-07-28\",\"2021-07-29\",\"2021-07-30\",\"2021-07-31\",\"2021-08-01\",\"2021-08-02\",\"2021-08-03\",\"2021-08-04\",\"2021-08-05\",\"2021-08-06\",\"2021-08-07\",\"2021-08-08\",\"2021-08-09\",\"2021-08-10\",\"2021-08-11\",\"2021-08-12\",\"2021-08-13\",\"2021-08-14\",\"2021-08-15\",\"2021-08-16\",\"2021-08-17\",\"2021-08-18\",\"2021-08-19\",\"2021-08-20\",\"2021-08-21\",\"2021-08-22\",\"2021-08-23\",\"2021-08-24\",\"2021-08-25\",\"2021-08-26\",\"2021-08-27\",\"2021-08-28\",\"2021-08-29\",\"2021-08-30\",\"2021-08-31\",\"2021-09-01\",\"2021-09-02\",\"2021-09-03\",\"2021-09-04\",\"2021-09-05\",\"2021-09-06\",\"2021-09-07\",\"2021-09-08\",\"2021-09-09\",\"2021-09-10\",\"2021-09-11\",\"2021-09-12\",\"2021-09-13\",\"2021-09-14\",\"2021-09-15\",\"2021-09-16\",\"2021-09-17\",\"2021-09-18\",\"2021-09-19\",\"2021-09-20\",\"2021-09-21\",\"2021-09-22\",\"2021-09-23\",\"2021-09-24\",\"2021-09-25\",\"2021-09-26\",\"2021-09-27\",\"2021-09-28\",\"2021-09-29\",\"2021-09-30\",\"2021-10-01\",\"2021-10-02\",\"2021-10-03\",\"2021-10-04\",\"2021-10-05\",\"2021-10-06\",\"2021-10-07\",\"2021-10-08\",\"2021-10-09\"],\"xaxis\":\"x\",\"y\":[19274045.959999997,20364109.55,1661494.34,13488398.93,9178004.73,9007836.7,20047076.0,45832745.85,1049019.53,4222355.081,14616105.450000001,14170059.13,18249433.74,47173032.699999996,31630474.316,16141319.3621,20859365.85,13456033.06,10063333.14,50639476.673443004,44197976.115171,49268699.389122,15742531.224055,4079601.155604,23154402.549204,15003303.099012,35458372.131421,43303667.785388,41713008.289942004,20370949.662452,16900522.409846,54226984.812929,16514074.146476,18700819.386925,21389288.32,28403669.059381,6437765.578462,11984401.741088001,20395669.6115,8934521.069412,18955166.27,19399930.691978,18563866.355825998,8311534.774996,4961886.614856,23239435.967151,58046818.07092401,29873718.213491,16077675.657072,17623938.284454,96980050.715332,1995862.307706,24227595.396856,30220089.92006,25166635.810888,24750856.701279998,33867355.686616,20110286.701824002,8166067.410571999,15618548.828,22382295.628000002,19725515.347,23239345.306962002,12815151.591272,8462723.793772,4239647.66849,26179729.833164,21078578.781,29918356.71,28988298.204582,6942731.509173,21210157.7428,3472061.8200000003,45409514.7734,20306277.17,54434083.054,27602265.889027,44184050.187058,10209535.788,16139173.91,27470571.862274,39959968.55,47112141.26444,61528365.748766005,62208014.631217,12332373.350498,32409266.991090998,47434483.07549,75163671.561471,32545314.392717,46501221.984767,61966116.595979,14617171.787258,13503485.574632,26917300.172079,35647724.922841996,33394617.052,35223295.881572,38871404.405002,43965976.034258,25890820.198592,76719111.673055,53477394.169092,34652184.667946,44245152.173098,38679798.684044,77525026.065164,19443019.474903997,39972490.205122,60644432.68458,45478920.373389,43695375.888026,53417722.953255,33683464.085347,15728060.236964,64842012.98389,34753325.639435,44386580.469004,59959966.671957,92681671.376674,34546041.433507,38827473.272103,97246309.068744,37641786.258747,41701883.124315,31187897.037762,36006871.957795,18100244.945013,21568727.642896,11012503.493244,32910057.17766,51278058.359342,44254553.265186995,54127650.08788101,164690133.663733,11173807.213705,69499704.154525,39756127.124514,28483353.074517,17036538.635709,21945259.181319002,6167367.43315,7598865.81013,42236783.059,67332946.391244,25296735.35103,20829786.439333,57970996.565365,43428427.611465,5371865.52398,70059420.747801,93178896.480987,60729283.361292,20486084.524831,75557252.082423,11227797.167574,6997854.847867,20463650.913437,10457559.089924,48933896.371074,13154622.719999,16999739.615155,136202.823182,6506579.831352,4926366.129923,10436693.130858,7937419.496433,9777622.065121999,5588980.044688,931417.636713,415508.843744,6800904.332498,10113634.301256,42911323.195489004,44551333.863208,12112040.914107,621804.309706,374230.000852,52634896.362742,4902990.914399,16308009.61219,2801509.618469,12412940.3492,601779.536664,38949.2227,16020012.246189,60200879.112056,23639578.999649,76830503.43321401,20161801.832747,1473713.710674,3826817.853898,6378479.376037,26005828.040602,16849577.477386,22101066.796218,16963742.98878,2907160.670042,4833177.234589,6943578.967158,23712833.983846,16107041.39343,11546498.075174,18728144.546210002,1274475.1613190002,576606.763473,20990322.084948,72708435.137856,4769652.784996,11644047.44561,24564118.330915,41214478.553209,2558540.9092139998,63268186.258166,8542198.748869,23427206.349493,24620098.998246,21977081.474295,2205710.669896,3674403.800286,20366013.799901,27786630.256464,19845376.980407,19932643.013978,23791329.750943,494980.374552,926118.700271,11702608.077844,27280628.198898,21135941.058215,51107745.119813,38069069.113738,1540022.932492,2335028.549658,23065951.419401,99616816.16808599,75444015.290156,41053497.134493,25516231.222734,1270382.917904,2149599.378586,12589767.652648,262744826.00473002,31559239.145879,103390755.622842,69910430.509284,731031.795496,1221032.08183,14388646.53991,73140230.989572,25629218.409143,16316636.265832,12884862.147935,2752447.9275559997,2219657.478688,14339452.831157,69821346.976647,28395283.3369,38890149.629834,13056525.673034,927404.292431],\"yaxis\":\"y\",\"type\":\"scatter\"}],                        {\"template\":{\"data\":{\"barpolar\":[{\"marker\":{\"line\":{\"color\":\"rgb(17,17,17)\",\"width\":0.5},\"pattern\":{\"fillmode\":\"overlay\",\"size\":10,\"solidity\":0.2}},\"type\":\"barpolar\"}],\"bar\":[{\"error_x\":{\"color\":\"#f2f5fa\"},\"error_y\":{\"color\":\"#f2f5fa\"},\"marker\":{\"line\":{\"color\":\"rgb(17,17,17)\",\"width\":0.5},\"pattern\":{\"fillmode\":\"overlay\",\"size\":10,\"solidity\":0.2}},\"type\":\"bar\"}],\"carpet\":[{\"aaxis\":{\"endlinecolor\":\"#A2B1C6\",\"gridcolor\":\"#506784\",\"linecolor\":\"#506784\",\"minorgridcolor\":\"#506784\",\"startlinecolor\":\"#A2B1C6\"},\"baxis\":{\"endlinecolor\":\"#A2B1C6\",\"gridcolor\":\"#506784\",\"linecolor\":\"#506784\",\"minorgridcolor\":\"#506784\",\"startlinecolor\":\"#A2B1C6\"},\"type\":\"carpet\"}],\"choropleth\":[{\"colorbar\":{\"outlinewidth\":0,\"ticks\":\"\"},\"type\":\"choropleth\"}],\"contourcarpet\":[{\"colorbar\":{\"outlinewidth\":0,\"ticks\":\"\"},\"type\":\"contourcarpet\"}],\"contour\":[{\"colorbar\":{\"outlinewidth\":0,\"ticks\":\"\"},\"colorscale\":[[0.0,\"#0d0887\"],[0.1111111111111111,\"#46039f\"],[0.2222222222222222,\"#7201a8\"],[0.3333333333333333,\"#9c179e\"],[0.4444444444444444,\"#bd3786\"],[0.5555555555555556,\"#d8576b\"],[0.6666666666666666,\"#ed7953\"],[0.7777777777777778,\"#fb9f3a\"],[0.8888888888888888,\"#fdca26\"],[1.0,\"#f0f921\"]],\"type\":\"contour\"}],\"heatmapgl\":[{\"colorbar\":{\"outlinewidth\":0,\"ticks\":\"\"},\"colorscale\":[[0.0,\"#0d0887\"],[0.1111111111111111,\"#46039f\"],[0.2222222222222222,\"#7201a8\"],[0.3333333333333333,\"#9c179e\"],[0.4444444444444444,\"#bd3786\"],[0.5555555555555556,\"#d8576b\"],[0.6666666666666666,\"#ed7953\"],[0.7777777777777778,\"#fb9f3a\"],[0.8888888888888888,\"#fdca26\"],[1.0,\"#f0f921\"]],\"type\":\"heatmapgl\"}],\"heatmap\":[{\"colorbar\":{\"outlinewidth\":0,\"ticks\":\"\"},\"colorscale\":[[0.0,\"#0d0887\"],[0.1111111111111111,\"#46039f\"],[0.2222222222222222,\"#7201a8\"],[0.3333333333333333,\"#9c179e\"],[0.4444444444444444,\"#bd3786\"],[0.5555555555555556,\"#d8576b\"],[0.6666666666666666,\"#ed7953\"],[0.7777777777777778,\"#fb9f3a\"],[0.8888888888888888,\"#fdca26\"],[1.0,\"#f0f921\"]],\"type\":\"heatmap\"}],\"histogram2dcontour\":[{\"colorbar\":{\"outlinewidth\":0,\"ticks\":\"\"},\"colorscale\":[[0.0,\"#0d0887\"],[0.1111111111111111,\"#46039f\"],[0.2222222222222222,\"#7201a8\"],[0.3333333333333333,\"#9c179e\"],[0.4444444444444444,\"#bd3786\"],[0.5555555555555556,\"#d8576b\"],[0.6666666666666666,\"#ed7953\"],[0.7777777777777778,\"#fb9f3a\"],[0.8888888888888888,\"#fdca26\"],[1.0,\"#f0f921\"]],\"type\":\"histogram2dcontour\"}],\"histogram2d\":[{\"colorbar\":{\"outlinewidth\":0,\"ticks\":\"\"},\"colorscale\":[[0.0,\"#0d0887\"],[0.1111111111111111,\"#46039f\"],[0.2222222222222222,\"#7201a8\"],[0.3333333333333333,\"#9c179e\"],[0.4444444444444444,\"#bd3786\"],[0.5555555555555556,\"#d8576b\"],[0.6666666666666666,\"#ed7953\"],[0.7777777777777778,\"#fb9f3a\"],[0.8888888888888888,\"#fdca26\"],[1.0,\"#f0f921\"]],\"type\":\"histogram2d\"}],\"histogram\":[{\"marker\":{\"pattern\":{\"fillmode\":\"overlay\",\"size\":10,\"solidity\":0.2}},\"type\":\"histogram\"}],\"mesh3d\":[{\"colorbar\":{\"outlinewidth\":0,\"ticks\":\"\"},\"type\":\"mesh3d\"}],\"parcoords\":[{\"line\":{\"colorbar\":{\"outlinewidth\":0,\"ticks\":\"\"}},\"type\":\"parcoords\"}],\"pie\":[{\"automargin\":true,\"type\":\"pie\"}],\"scatter3d\":[{\"line\":{\"colorbar\":{\"outlinewidth\":0,\"ticks\":\"\"}},\"marker\":{\"colorbar\":{\"outlinewidth\":0,\"ticks\":\"\"}},\"type\":\"scatter3d\"}],\"scattercarpet\":[{\"marker\":{\"colorbar\":{\"outlinewidth\":0,\"ticks\":\"\"}},\"type\":\"scattercarpet\"}],\"scattergeo\":[{\"marker\":{\"colorbar\":{\"outlinewidth\":0,\"ticks\":\"\"}},\"type\":\"scattergeo\"}],\"scattergl\":[{\"marker\":{\"line\":{\"color\":\"#283442\"}},\"type\":\"scattergl\"}],\"scattermapbox\":[{\"marker\":{\"colorbar\":{\"outlinewidth\":0,\"ticks\":\"\"}},\"type\":\"scattermapbox\"}],\"scatterpolargl\":[{\"marker\":{\"colorbar\":{\"outlinewidth\":0,\"ticks\":\"\"}},\"type\":\"scatterpolargl\"}],\"scatterpolar\":[{\"marker\":{\"colorbar\":{\"outlinewidth\":0,\"ticks\":\"\"}},\"type\":\"scatterpolar\"}],\"scatter\":[{\"marker\":{\"line\":{\"color\":\"#283442\"}},\"type\":\"scatter\"}],\"scatterternary\":[{\"marker\":{\"colorbar\":{\"outlinewidth\":0,\"ticks\":\"\"}},\"type\":\"scatterternary\"}],\"surface\":[{\"colorbar\":{\"outlinewidth\":0,\"ticks\":\"\"},\"colorscale\":[[0.0,\"#0d0887\"],[0.1111111111111111,\"#46039f\"],[0.2222222222222222,\"#7201a8\"],[0.3333333333333333,\"#9c179e\"],[0.4444444444444444,\"#bd3786\"],[0.5555555555555556,\"#d8576b\"],[0.6666666666666666,\"#ed7953\"],[0.7777777777777778,\"#fb9f3a\"],[0.8888888888888888,\"#fdca26\"],[1.0,\"#f0f921\"]],\"type\":\"surface\"}],\"table\":[{\"cells\":{\"fill\":{\"color\":\"#506784\"},\"line\":{\"color\":\"rgb(17,17,17)\"}},\"header\":{\"fill\":{\"color\":\"#2a3f5f\"},\"line\":{\"color\":\"rgb(17,17,17)\"}},\"type\":\"table\"}]},\"layout\":{\"annotationdefaults\":{\"arrowcolor\":\"#f2f5fa\",\"arrowhead\":0,\"arrowwidth\":1},\"autotypenumbers\":\"strict\",\"coloraxis\":{\"colorbar\":{\"outlinewidth\":0,\"ticks\":\"\"}},\"colorscale\":{\"diverging\":[[0,\"#8e0152\"],[0.1,\"#c51b7d\"],[0.2,\"#de77ae\"],[0.3,\"#f1b6da\"],[0.4,\"#fde0ef\"],[0.5,\"#f7f7f7\"],[0.6,\"#e6f5d0\"],[0.7,\"#b8e186\"],[0.8,\"#7fbc41\"],[0.9,\"#4d9221\"],[1,\"#276419\"]],\"sequential\":[[0.0,\"#0d0887\"],[0.1111111111111111,\"#46039f\"],[0.2222222222222222,\"#7201a8\"],[0.3333333333333333,\"#9c179e\"],[0.4444444444444444,\"#bd3786\"],[0.5555555555555556,\"#d8576b\"],[0.6666666666666666,\"#ed7953\"],[0.7777777777777778,\"#fb9f3a\"],[0.8888888888888888,\"#fdca26\"],[1.0,\"#f0f921\"]],\"sequentialminus\":[[0.0,\"#0d0887\"],[0.1111111111111111,\"#46039f\"],[0.2222222222222222,\"#7201a8\"],[0.3333333333333333,\"#9c179e\"],[0.4444444444444444,\"#bd3786\"],[0.5555555555555556,\"#d8576b\"],[0.6666666666666666,\"#ed7953\"],[0.7777777777777778,\"#fb9f3a\"],[0.8888888888888888,\"#fdca26\"],[1.0,\"#f0f921\"]]},\"colorway\":[\"#636efa\",\"#EF553B\",\"#00cc96\",\"#ab63fa\",\"#FFA15A\",\"#19d3f3\",\"#FF6692\",\"#B6E880\",\"#FF97FF\",\"#FECB52\"],\"font\":{\"color\":\"#f2f5fa\"},\"geo\":{\"bgcolor\":\"rgb(17,17,17)\",\"lakecolor\":\"rgb(17,17,17)\",\"landcolor\":\"rgb(17,17,17)\",\"showlakes\":true,\"showland\":true,\"subunitcolor\":\"#506784\"},\"hoverlabel\":{\"align\":\"left\"},\"hovermode\":\"closest\",\"mapbox\":{\"style\":\"dark\"},\"paper_bgcolor\":\"rgb(17,17,17)\",\"plot_bgcolor\":\"rgb(17,17,17)\",\"polar\":{\"angularaxis\":{\"gridcolor\":\"#506784\",\"linecolor\":\"#506784\",\"ticks\":\"\"},\"bgcolor\":\"rgb(17,17,17)\",\"radialaxis\":{\"gridcolor\":\"#506784\",\"linecolor\":\"#506784\",\"ticks\":\"\"}},\"scene\":{\"xaxis\":{\"backgroundcolor\":\"rgb(17,17,17)\",\"gridcolor\":\"#506784\",\"gridwidth\":2,\"linecolor\":\"#506784\",\"showbackground\":true,\"ticks\":\"\",\"zerolinecolor\":\"#C8D4E3\"},\"yaxis\":{\"backgroundcolor\":\"rgb(17,17,17)\",\"gridcolor\":\"#506784\",\"gridwidth\":2,\"linecolor\":\"#506784\",\"showbackground\":true,\"ticks\":\"\",\"zerolinecolor\":\"#C8D4E3\"},\"zaxis\":{\"backgroundcolor\":\"rgb(17,17,17)\",\"gridcolor\":\"#506784\",\"gridwidth\":2,\"linecolor\":\"#506784\",\"showbackground\":true,\"ticks\":\"\",\"zerolinecolor\":\"#C8D4E3\"}},\"shapedefaults\":{\"line\":{\"color\":\"#f2f5fa\"}},\"sliderdefaults\":{\"bgcolor\":\"#C8D4E3\",\"bordercolor\":\"rgb(17,17,17)\",\"borderwidth\":1,\"tickwidth\":0},\"ternary\":{\"aaxis\":{\"gridcolor\":\"#506784\",\"linecolor\":\"#506784\",\"ticks\":\"\"},\"baxis\":{\"gridcolor\":\"#506784\",\"linecolor\":\"#506784\",\"ticks\":\"\"},\"bgcolor\":\"rgb(17,17,17)\",\"caxis\":{\"gridcolor\":\"#506784\",\"linecolor\":\"#506784\",\"ticks\":\"\"}},\"title\":{\"x\":0.05},\"updatemenudefaults\":{\"bgcolor\":\"#506784\",\"borderwidth\":0},\"xaxis\":{\"automargin\":true,\"gridcolor\":\"#283442\",\"linecolor\":\"#506784\",\"ticks\":\"\",\"title\":{\"standoff\":15},\"zerolinecolor\":\"#283442\",\"zerolinewidth\":2},\"yaxis\":{\"automargin\":true,\"gridcolor\":\"#283442\",\"linecolor\":\"#506784\",\"ticks\":\"\",\"title\":{\"standoff\":15},\"zerolinecolor\":\"#283442\",\"zerolinewidth\":2}}},\"xaxis\":{\"anchor\":\"y\",\"domain\":[0.0,1.0],\"title\":{\"text\":\"round-time\"}},\"yaxis\":{\"anchor\":\"x\",\"domain\":[0.0,1.0],\"title\":{\"text\":\"volume\"}},\"legend\":{\"tracegroupgap\":0},\"margin\":{\"t\":60}},                        {\"responsive\": true}                    ).then(function(){\n",
       "                            \n",
       "var gd = document.getElementById('4ae060ae-8d69-43f9-8612-a56a1a576f2b');\n",
       "var x = new MutationObserver(function (mutations, observer) {{\n",
       "        var display = window.getComputedStyle(gd).display;\n",
       "        if (!display || display === 'none') {{\n",
       "            console.log([gd, 'removed!']);\n",
       "            Plotly.purge(gd);\n",
       "            observer.disconnect();\n",
       "        }}\n",
       "}});\n",
       "\n",
       "// Listen for the removal of the full notebook cells\n",
       "var notebookContainer = gd.closest('#notebook-container');\n",
       "if (notebookContainer) {{\n",
       "    x.observe(notebookContainer, {childList: true});\n",
       "}}\n",
       "\n",
       "// Listen for the clearing of the current output cell\n",
       "var outputEl = gd.closest('.output');\n",
       "if (outputEl) {{\n",
       "    x.observe(outputEl, {childList: true});\n",
       "}}\n",
       "\n",
       "                        })                };                });            </script>        </div>"
      ]
     },
     "metadata": {},
     "output_type": "display_data"
    }
   ],
   "source": [
    "df_USDC.fee = df_USDC.fee / 1000000\n",
    "df_USDC['asset-transfer-transaction.amount'] = df_USDC['asset-transfer-transaction.amount'] / 1000000\n",
    "df_USDC['round-time'] = pd.to_datetime(df_USDC['round-time'], unit='s')\n",
    "\n",
    "ag_df = df_USDC.groupby(by=[df_USDC['round-time'].dt.date])['asset-transfer-transaction.amount'].agg(volume='sum', mean='mean')\n",
    "fig = px.line(ag_df, y=ag_df.volume, x=ag_df.index)\n",
    "fig.update_layout(template=\"plotly_dark\")\n",
    "fig.show()"
   ]
  },
  {
   "cell_type": "markdown",
   "id": "7a7b5ac9",
   "metadata": {},
   "source": [
    "Se agregan características basadas en series de tiempo y se eliminan los datos nulos"
   ]
  },
  {
   "cell_type": "code",
   "execution_count": 20,
   "id": "2ef900c0",
   "metadata": {},
   "outputs": [
    {
     "data": {
      "text/html": [
       "<div>\n",
       "<style scoped>\n",
       "    .dataframe tbody tr th:only-of-type {\n",
       "        vertical-align: middle;\n",
       "    }\n",
       "\n",
       "    .dataframe tbody tr th {\n",
       "        vertical-align: top;\n",
       "    }\n",
       "\n",
       "    .dataframe thead th {\n",
       "        text-align: right;\n",
       "    }\n",
       "</style>\n",
       "<table border=\"1\" class=\"dataframe\">\n",
       "  <thead>\n",
       "    <tr style=\"text-align: right;\">\n",
       "      <th></th>\n",
       "      <th>volume</th>\n",
       "      <th>mean</th>\n",
       "      <th>volume-1</th>\n",
       "      <th>volume_diff</th>\n",
       "    </tr>\n",
       "    <tr>\n",
       "      <th>round-time</th>\n",
       "      <th></th>\n",
       "      <th></th>\n",
       "      <th></th>\n",
       "      <th></th>\n",
       "    </tr>\n",
       "  </thead>\n",
       "  <tbody>\n",
       "    <tr>\n",
       "      <th>2021-01-24</th>\n",
       "      <td>1.661494e+06</td>\n",
       "      <td>75522.470000</td>\n",
       "      <td>2.036411e+07</td>\n",
       "      <td>-1.870262e+07</td>\n",
       "    </tr>\n",
       "    <tr>\n",
       "      <th>2021-01-25</th>\n",
       "      <td>1.348840e+07</td>\n",
       "      <td>85369.613481</td>\n",
       "      <td>1.661494e+06</td>\n",
       "      <td>1.182690e+07</td>\n",
       "    </tr>\n",
       "    <tr>\n",
       "      <th>2021-01-26</th>\n",
       "      <td>9.178005e+06</td>\n",
       "      <td>31217.703163</td>\n",
       "      <td>1.348840e+07</td>\n",
       "      <td>-4.310394e+06</td>\n",
       "    </tr>\n",
       "    <tr>\n",
       "      <th>2021-01-27</th>\n",
       "      <td>9.007837e+06</td>\n",
       "      <td>38331.220000</td>\n",
       "      <td>9.178005e+06</td>\n",
       "      <td>-1.701680e+05</td>\n",
       "    </tr>\n",
       "    <tr>\n",
       "      <th>2021-01-28</th>\n",
       "      <td>2.004708e+07</td>\n",
       "      <td>85671.264957</td>\n",
       "      <td>9.007837e+06</td>\n",
       "      <td>1.103924e+07</td>\n",
       "    </tr>\n",
       "    <tr>\n",
       "      <th>...</th>\n",
       "      <td>...</td>\n",
       "      <td>...</td>\n",
       "      <td>...</td>\n",
       "      <td>...</td>\n",
       "    </tr>\n",
       "    <tr>\n",
       "      <th>2021-10-05</th>\n",
       "      <td>6.982135e+07</td>\n",
       "      <td>347369.885456</td>\n",
       "      <td>1.433945e+07</td>\n",
       "      <td>5.548189e+07</td>\n",
       "    </tr>\n",
       "    <tr>\n",
       "      <th>2021-10-06</th>\n",
       "      <td>2.839528e+07</td>\n",
       "      <td>155165.482715</td>\n",
       "      <td>6.982135e+07</td>\n",
       "      <td>-4.142606e+07</td>\n",
       "    </tr>\n",
       "    <tr>\n",
       "      <th>2021-10-07</th>\n",
       "      <td>3.889015e+07</td>\n",
       "      <td>18733.212731</td>\n",
       "      <td>2.839528e+07</td>\n",
       "      <td>1.049487e+07</td>\n",
       "    </tr>\n",
       "    <tr>\n",
       "      <th>2021-10-08</th>\n",
       "      <td>1.305653e+07</td>\n",
       "      <td>1742.263901</td>\n",
       "      <td>3.889015e+07</td>\n",
       "      <td>-2.583362e+07</td>\n",
       "    </tr>\n",
       "    <tr>\n",
       "      <th>2021-10-09</th>\n",
       "      <td>9.274043e+05</td>\n",
       "      <td>329.919706</td>\n",
       "      <td>1.305653e+07</td>\n",
       "      <td>-1.212912e+07</td>\n",
       "    </tr>\n",
       "  </tbody>\n",
       "</table>\n",
       "<p>259 rows × 4 columns</p>\n",
       "</div>"
      ],
      "text/plain": [
       "                  volume           mean      volume-1   volume_diff\n",
       "round-time                                                         \n",
       "2021-01-24  1.661494e+06   75522.470000  2.036411e+07 -1.870262e+07\n",
       "2021-01-25  1.348840e+07   85369.613481  1.661494e+06  1.182690e+07\n",
       "2021-01-26  9.178005e+06   31217.703163  1.348840e+07 -4.310394e+06\n",
       "2021-01-27  9.007837e+06   38331.220000  9.178005e+06 -1.701680e+05\n",
       "2021-01-28  2.004708e+07   85671.264957  9.007837e+06  1.103924e+07\n",
       "...                  ...            ...           ...           ...\n",
       "2021-10-05  6.982135e+07  347369.885456  1.433945e+07  5.548189e+07\n",
       "2021-10-06  2.839528e+07  155165.482715  6.982135e+07 -4.142606e+07\n",
       "2021-10-07  3.889015e+07   18733.212731  2.839528e+07  1.049487e+07\n",
       "2021-10-08  1.305653e+07    1742.263901  3.889015e+07 -2.583362e+07\n",
       "2021-10-09  9.274043e+05     329.919706  1.305653e+07 -1.212912e+07\n",
       "\n",
       "[259 rows x 4 columns]"
      ]
     },
     "execution_count": 20,
     "metadata": {},
     "output_type": "execute_result"
    }
   ],
   "source": [
    "ag_df.loc[:,'volume-1'] = ag_df.loc[:,'volume'].shift()\n",
    "\n",
    "ag_df.loc[:,'volume_diff'] = ag_df.loc[:,'volume'].diff()\n",
    "ag_df = ag_df.dropna()\n",
    "ag_df"
   ]
  },
  {
   "cell_type": "markdown",
   "id": "9a91dcb1",
   "metadata": {},
   "source": [
    "Se definen conjuntos de datos de prueba y entrenamiento en un 80 %."
   ]
  },
  {
   "cell_type": "code",
   "execution_count": 23,
   "id": "f2ae8599",
   "metadata": {},
   "outputs": [],
   "source": [
    "train = ag_df[:int(len(ag_df)*0.8)]\n",
    "test = ag_df[int(len(ag_df)*0.8):]\n",
    "\n",
    "X_train, X_test, y_train, y_test = train.drop('volume', axis=1), test.drop('volume', axis=1), train['volume'], test['volume']"
   ]
  },
  {
   "cell_type": "markdown",
   "id": "b16e8262",
   "metadata": {},
   "source": [
    "Se utiliza una red neuronal incorporada con sklearn y el modelo Random Forest. También se hace uso de Gridsearch para comparar y configurar el mejor modelo."
   ]
  },
  {
   "cell_type": "code",
   "execution_count": 24,
   "id": "45586af8",
   "metadata": {},
   "outputs": [
    {
     "name": "stdout",
     "output_type": "stream",
     "text": [
      "RandomForestRegressor(max_depth=10, random_state=42) at -121794040854821.55\n",
      "MLPRegressor(activation='identity', max_iter=100, random_state=1,\n",
      "             solver='lbfgs') at -0.022252161944998863\n"
     ]
    }
   ],
   "source": [
    "model = RandomForestRegressor(random_state=42)\n",
    "param_search = { \n",
    "    'n_estimators': [10, 20, 50, 100],\n",
    "    'max_features': ['auto', 'sqrt', 'log2'],\n",
    "    'max_depth' : [i for i in range(1,15)]\n",
    "}\n",
    "tscv = TimeSeriesSplit(n_splits=4)\n",
    "gsearch = GridSearchCV(estimator=model, cv=tscv, param_grid=param_search, scoring = 'neg_mean_squared_error')\n",
    "gsearch.fit(X_train, y_train)\n",
    "rf_best_score = gsearch.best_score_\n",
    "rf_best_model = gsearch.best_estimator_\n",
    "print(f\"{rf_best_model} at {rf_best_score}\")\n",
    "\n",
    "\n",
    "model = MLPRegressor(random_state=1)\n",
    "param_search = { \n",
    "    'max_iter':[ 100, 200, 400, 600, 800, 1000],\n",
    "    'solver': ['lbfgs', 'sgd', 'adam'],\n",
    "    'activation':['identity', 'logistic', 'tanh', 'relu'],\n",
    "}\n",
    "\n",
    "tscv = TimeSeriesSplit(n_splits=4)\n",
    "gsearch = GridSearchCV(estimator=model, cv=tscv, param_grid=param_search, scoring = 'neg_mean_squared_error')\n",
    "gsearch.fit(X_train, y_train)\n",
    "best_score = gsearch.best_score_\n",
    "best_model = gsearch.best_estimator_\n",
    "print(f\"{best_model} at {best_score}\")"
   ]
  },
  {
   "cell_type": "markdown",
   "id": "6bb56090",
   "metadata": {},
   "source": [
    "#### **Conformación del modelo de pronóstico**"
   ]
  },
  {
   "cell_type": "code",
   "execution_count": 21,
   "id": "8ce654d9",
   "metadata": {},
   "outputs": [],
   "source": [
    "def regression_results(y_true, y_pred):\n",
    "    # Regression metrics\n",
    "    explained_variance = metrics.explained_variance_score(y_true, y_pred)\n",
    "    mean_absolute_error = metrics.mean_absolute_error(y_true, y_pred) \n",
    "    mse=metrics.mean_squared_error(y_true, y_pred) \n",
    "    mean_squared_log_error=metrics.mean_squared_log_error(y_true, y_pred)\n",
    "    r2=metrics.r2_score(y_true, y_pred)\n",
    "\n",
    "    print('explained_variance: ', round(explained_variance, 4))    \n",
    "    print('mean_squared_log_error: ', round(mean_squared_log_error, 4))\n",
    "    print('r2: ', round(r2, 4))\n",
    "    print('MAE: ', round(mean_absolute_error, 4))\n",
    "    print('MSE: ', round(mse, 4))\n",
    "    print('RMSE: ', round(np.sqrt(mse), 4))"
   ]
  },
  {
   "cell_type": "markdown",
   "id": "12506509",
   "metadata": {},
   "source": [
    "Por último, se obtiene el rendimiento de los modelos donde la red neuronal supero significativamente al modelo de bosques aleatorios. El resultado de R-cuadrado es perfecto 1 y el error cuadrático medio es cercano a cero."
   ]
  },
  {
   "cell_type": "code",
   "execution_count": 25,
   "id": "d1e95fab",
   "metadata": {},
   "outputs": [
    {
     "name": "stdout",
     "output_type": "stream",
     "text": [
      "explained_variance:  1.0\n",
      "mean_squared_log_error:  0.0\n",
      "r2:  1.0\n",
      "MAE:  0.1149\n",
      "MSE:  0.0199\n",
      "RMSE:  0.1411\n"
     ]
    }
   ],
   "source": [
    "# Rendimiento de la red neuronal\n",
    "y_true = y_test.values\n",
    "y_pred = best_model.predict(X_test)\n",
    "regression_results(y_true, y_pred)"
   ]
  },
  {
   "cell_type": "code",
   "execution_count": 21,
   "id": "25868c92",
   "metadata": {},
   "outputs": [
    {
     "name": "stdout",
     "output_type": "stream",
     "text": [
      "explained_variance:  0.8228\n",
      "mean_squared_log_error:  0.405\n",
      "r2:  0.8111\n",
      "MAE:  7257534.9835\n",
      "MSE:  319603433267492.56\n",
      "RMSE:  17877456.0066\n"
     ]
    }
   ],
   "source": [
    "# Rendimiento del modelo de bosques aleatorios\n",
    "y_true = y_test.values\n",
    "y_pred = rf_best_model.predict(X_test)\n",
    "regression_results(y_true, y_pred)"
   ]
  }
 ],
 "metadata": {
  "kernelspec": {
   "display_name": "Python 3 (ipykernel)",
   "language": "python",
   "name": "python3"
  },
  "language_info": {
   "codemirror_mode": {
    "name": "ipython",
    "version": 3
   },
   "file_extension": ".py",
   "mimetype": "text/x-python",
   "name": "python",
   "nbconvert_exporter": "python",
   "pygments_lexer": "ipython3",
   "version": "3.9.12"
  }
 },
 "nbformat": 4,
 "nbformat_minor": 5
}
